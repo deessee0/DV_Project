{
 "cells": [
  {
   "cell_type": "markdown",
   "metadata": {},
   "source": [
    "# Datavisualisation Project\n",
    "#### made by Checchin, Di Salvia, Zamar\n",
    "\n",
    "\n",
    "\n",
    "\n",
    "### Installing libraries"
   ]
  },
  {
   "cell_type": "code",
   "execution_count": 308,
   "metadata": {},
   "outputs": [
    {
     "name": "stdout",
     "output_type": "stream",
     "text": [
      "Requirement already satisfied: dash in c:\\users\\beatr\\anaconda3\\lib\\site-packages (2.16.1)\n",
      "Requirement already satisfied: Flask<3.1,>=1.0.4 in c:\\users\\beatr\\anaconda3\\lib\\site-packages (from dash) (1.1.2)\n",
      "Requirement already satisfied: Werkzeug<3.1 in c:\\users\\beatr\\anaconda3\\lib\\site-packages (from dash) (2.0.3)\n",
      "Requirement already satisfied: plotly>=5.0.0 in c:\\users\\beatr\\anaconda3\\lib\\site-packages (from dash) (5.9.0)\n",
      "Requirement already satisfied: dash-html-components==2.0.0 in c:\\users\\beatr\\anaconda3\\lib\\site-packages (from dash) (2.0.0)\n",
      "Requirement already satisfied: dash-core-components==2.0.0 in c:\\users\\beatr\\anaconda3\\lib\\site-packages (from dash) (2.0.0)\n",
      "Requirement already satisfied: dash-table==5.0.0 in c:\\users\\beatr\\anaconda3\\lib\\site-packages (from dash) (5.0.0)\n",
      "Requirement already satisfied: importlib-metadata in c:\\users\\beatr\\anaconda3\\lib\\site-packages (from dash) (6.0.0)\n",
      "Requirement already satisfied: typing-extensions>=4.1.1 in c:\\users\\beatr\\anaconda3\\lib\\site-packages (from dash) (4.7.1)\n",
      "Requirement already satisfied: requests in c:\\users\\beatr\\anaconda3\\lib\\site-packages (from dash) (2.31.0)\n",
      "Requirement already satisfied: retrying in c:\\users\\beatr\\anaconda3\\lib\\site-packages (from dash) (1.3.4)\n",
      "Requirement already satisfied: nest-asyncio in c:\\users\\beatr\\anaconda3\\lib\\site-packages (from dash) (1.5.6)\n",
      "Requirement already satisfied: setuptools in c:\\users\\beatr\\anaconda3\\lib\\site-packages (from dash) (68.2.2)\n",
      "Requirement already satisfied: Jinja2>=2.10.1 in c:\\users\\beatr\\anaconda3\\lib\\site-packages (from Flask<3.1,>=1.0.4->dash) (2.11.3)\n",
      "Requirement already satisfied: itsdangerous>=0.24 in c:\\users\\beatr\\anaconda3\\lib\\site-packages (from Flask<3.1,>=1.0.4->dash) (2.0.1)\n",
      "Requirement already satisfied: click>=5.1 in c:\\users\\beatr\\anaconda3\\lib\\site-packages (from Flask<3.1,>=1.0.4->dash) (8.1.7)\n",
      "Requirement already satisfied: tenacity>=6.2.0 in c:\\users\\beatr\\anaconda3\\lib\\site-packages (from plotly>=5.0.0->dash) (8.2.2)\n",
      "Requirement already satisfied: zipp>=0.5 in c:\\users\\beatr\\anaconda3\\lib\\site-packages (from importlib-metadata->dash) (3.17.0)\n",
      "Requirement already satisfied: charset-normalizer<4,>=2 in c:\\users\\beatr\\anaconda3\\lib\\site-packages (from requests->dash) (2.0.4)\n",
      "Requirement already satisfied: idna<4,>=2.5 in c:\\users\\beatr\\anaconda3\\lib\\site-packages (from requests->dash) (3.4)\n",
      "Requirement already satisfied: urllib3<3,>=1.21.1 in c:\\users\\beatr\\anaconda3\\lib\\site-packages (from requests->dash) (1.26.18)\n",
      "Requirement already satisfied: certifi>=2017.4.17 in c:\\users\\beatr\\anaconda3\\lib\\site-packages (from requests->dash) (2023.11.17)\n",
      "Requirement already satisfied: six>=1.7.0 in c:\\users\\beatr\\anaconda3\\lib\\site-packages (from retrying->dash) (1.16.0)\n",
      "Requirement already satisfied: colorama in c:\\users\\beatr\\anaconda3\\lib\\site-packages (from click>=5.1->Flask<3.1,>=1.0.4->dash) (0.4.6)\n",
      "Requirement already satisfied: MarkupSafe>=0.23 in c:\\users\\beatr\\anaconda3\\lib\\site-packages (from Jinja2>=2.10.1->Flask<3.1,>=1.0.4->dash) (2.0.1)\n",
      "Requirement already satisfied: dash_bootstrap_components in c:\\users\\beatr\\anaconda3\\lib\\site-packages (1.5.0)\n",
      "Requirement already satisfied: dash>=2.0.0 in c:\\users\\beatr\\anaconda3\\lib\\site-packages (from dash_bootstrap_components) (2.16.1)\n",
      "Requirement already satisfied: Flask<3.1,>=1.0.4 in c:\\users\\beatr\\anaconda3\\lib\\site-packages (from dash>=2.0.0->dash_bootstrap_components) (1.1.2)\n",
      "Requirement already satisfied: Werkzeug<3.1 in c:\\users\\beatr\\anaconda3\\lib\\site-packages (from dash>=2.0.0->dash_bootstrap_components) (2.0.3)\n",
      "Requirement already satisfied: plotly>=5.0.0 in c:\\users\\beatr\\anaconda3\\lib\\site-packages (from dash>=2.0.0->dash_bootstrap_components) (5.9.0)\n",
      "Requirement already satisfied: dash-html-components==2.0.0 in c:\\users\\beatr\\anaconda3\\lib\\site-packages (from dash>=2.0.0->dash_bootstrap_components) (2.0.0)\n",
      "Requirement already satisfied: dash-core-components==2.0.0 in c:\\users\\beatr\\anaconda3\\lib\\site-packages (from dash>=2.0.0->dash_bootstrap_components) (2.0.0)\n",
      "Requirement already satisfied: dash-table==5.0.0 in c:\\users\\beatr\\anaconda3\\lib\\site-packages (from dash>=2.0.0->dash_bootstrap_components) (5.0.0)\n",
      "Requirement already satisfied: importlib-metadata in c:\\users\\beatr\\anaconda3\\lib\\site-packages (from dash>=2.0.0->dash_bootstrap_components) (6.0.0)\n",
      "Requirement already satisfied: typing-extensions>=4.1.1 in c:\\users\\beatr\\anaconda3\\lib\\site-packages (from dash>=2.0.0->dash_bootstrap_components) (4.7.1)\n",
      "Requirement already satisfied: requests in c:\\users\\beatr\\anaconda3\\lib\\site-packages (from dash>=2.0.0->dash_bootstrap_components) (2.31.0)\n",
      "Requirement already satisfied: retrying in c:\\users\\beatr\\anaconda3\\lib\\site-packages (from dash>=2.0.0->dash_bootstrap_components) (1.3.4)\n",
      "Requirement already satisfied: nest-asyncio in c:\\users\\beatr\\anaconda3\\lib\\site-packages (from dash>=2.0.0->dash_bootstrap_components) (1.5.6)\n",
      "Requirement already satisfied: setuptools in c:\\users\\beatr\\anaconda3\\lib\\site-packages (from dash>=2.0.0->dash_bootstrap_components) (68.2.2)\n",
      "Requirement already satisfied: Jinja2>=2.10.1 in c:\\users\\beatr\\anaconda3\\lib\\site-packages (from Flask<3.1,>=1.0.4->dash>=2.0.0->dash_bootstrap_components) (2.11.3)\n",
      "Requirement already satisfied: itsdangerous>=0.24 in c:\\users\\beatr\\anaconda3\\lib\\site-packages (from Flask<3.1,>=1.0.4->dash>=2.0.0->dash_bootstrap_components) (2.0.1)\n",
      "Requirement already satisfied: click>=5.1 in c:\\users\\beatr\\anaconda3\\lib\\site-packages (from Flask<3.1,>=1.0.4->dash>=2.0.0->dash_bootstrap_components) (8.1.7)\n",
      "Requirement already satisfied: tenacity>=6.2.0 in c:\\users\\beatr\\anaconda3\\lib\\site-packages (from plotly>=5.0.0->dash>=2.0.0->dash_bootstrap_components) (8.2.2)\n",
      "Requirement already satisfied: zipp>=0.5 in c:\\users\\beatr\\anaconda3\\lib\\site-packages (from importlib-metadata->dash>=2.0.0->dash_bootstrap_components) (3.17.0)\n",
      "Requirement already satisfied: charset-normalizer<4,>=2 in c:\\users\\beatr\\anaconda3\\lib\\site-packages (from requests->dash>=2.0.0->dash_bootstrap_components) (2.0.4)\n",
      "Requirement already satisfied: idna<4,>=2.5 in c:\\users\\beatr\\anaconda3\\lib\\site-packages (from requests->dash>=2.0.0->dash_bootstrap_components) (3.4)\n",
      "Requirement already satisfied: urllib3<3,>=1.21.1 in c:\\users\\beatr\\anaconda3\\lib\\site-packages (from requests->dash>=2.0.0->dash_bootstrap_components) (1.26.18)\n",
      "Requirement already satisfied: certifi>=2017.4.17 in c:\\users\\beatr\\anaconda3\\lib\\site-packages (from requests->dash>=2.0.0->dash_bootstrap_components) (2023.11.17)\n",
      "Requirement already satisfied: six>=1.7.0 in c:\\users\\beatr\\anaconda3\\lib\\site-packages (from retrying->dash>=2.0.0->dash_bootstrap_components) (1.16.0)\n",
      "Requirement already satisfied: colorama in c:\\users\\beatr\\anaconda3\\lib\\site-packages (from click>=5.1->Flask<3.1,>=1.0.4->dash>=2.0.0->dash_bootstrap_components) (0.4.6)\n",
      "Requirement already satisfied: MarkupSafe>=0.23 in c:\\users\\beatr\\anaconda3\\lib\\site-packages (from Jinja2>=2.10.1->Flask<3.1,>=1.0.4->dash>=2.0.0->dash_bootstrap_components) (2.0.1)\n",
      "Collecting wordcloud\n",
      "  Downloading wordcloud-1.9.3-cp39-cp39-win_amd64.whl.metadata (3.5 kB)\n",
      "Requirement already satisfied: numpy>=1.6.1 in c:\\users\\beatr\\anaconda3\\lib\\site-packages (from wordcloud) (1.26.2)\n",
      "Requirement already satisfied: pillow in c:\\users\\beatr\\anaconda3\\lib\\site-packages (from wordcloud) (10.0.1)\n",
      "Requirement already satisfied: matplotlib in c:\\users\\beatr\\anaconda3\\lib\\site-packages (from wordcloud) (3.8.0)\n",
      "Requirement already satisfied: contourpy>=1.0.1 in c:\\users\\beatr\\anaconda3\\lib\\site-packages (from matplotlib->wordcloud) (1.2.0)\n",
      "Requirement already satisfied: cycler>=0.10 in c:\\users\\beatr\\anaconda3\\lib\\site-packages (from matplotlib->wordcloud) (0.11.0)\n",
      "Requirement already satisfied: fonttools>=4.22.0 in c:\\users\\beatr\\anaconda3\\lib\\site-packages (from matplotlib->wordcloud) (4.25.0)\n",
      "Requirement already satisfied: kiwisolver>=1.0.1 in c:\\users\\beatr\\anaconda3\\lib\\site-packages (from matplotlib->wordcloud) (1.4.4)\n",
      "Requirement already satisfied: packaging>=20.0 in c:\\users\\beatr\\anaconda3\\lib\\site-packages (from matplotlib->wordcloud) (23.1)\n",
      "Requirement already satisfied: pyparsing>=2.3.1 in c:\\users\\beatr\\anaconda3\\lib\\site-packages (from matplotlib->wordcloud) (3.0.9)\n",
      "Requirement already satisfied: python-dateutil>=2.7 in c:\\users\\beatr\\anaconda3\\lib\\site-packages (from matplotlib->wordcloud) (2.8.2)\n",
      "Requirement already satisfied: importlib-resources>=3.2.0 in c:\\users\\beatr\\anaconda3\\lib\\site-packages (from matplotlib->wordcloud) (6.1.1)\n",
      "Requirement already satisfied: zipp>=3.1.0 in c:\\users\\beatr\\anaconda3\\lib\\site-packages (from importlib-resources>=3.2.0->matplotlib->wordcloud) (3.17.0)\n",
      "Requirement already satisfied: six>=1.5 in c:\\users\\beatr\\anaconda3\\lib\\site-packages (from python-dateutil>=2.7->matplotlib->wordcloud) (1.16.0)\n",
      "Downloading wordcloud-1.9.3-cp39-cp39-win_amd64.whl (300 kB)\n",
      "   ---------------------------------------- 0.0/300.6 kB ? eta -:--:--\n",
      "   - -------------------------------------- 10.2/300.6 kB ? eta -:--:--\n",
      "   --- ----------------------------------- 30.7/300.6 kB 640.0 kB/s eta 0:00:01\n",
      "   -------------- ------------------------- 112.6/300.6 kB 1.1 MB/s eta 0:00:01\n",
      "   ---------------- ----------------------- 122.9/300.6 kB 1.2 MB/s eta 0:00:01\n",
      "   -------------------- ----------------- 163.8/300.6 kB 893.0 kB/s eta 0:00:01\n",
      "   -------------------- ----------------- 163.8/300.6 kB 893.0 kB/s eta 0:00:01\n",
      "   ------------------------- ------------ 204.8/300.6 kB 731.4 kB/s eta 0:00:01\n",
      "   ------------------------------- ------ 245.8/300.6 kB 752.5 kB/s eta 0:00:01\n",
      "   -------------------------------------- 300.6/300.6 kB 774.2 kB/s eta 0:00:00\n",
      "Installing collected packages: wordcloud\n",
      "Successfully installed wordcloud-1.9.3\n"
     ]
    },
    {
     "name": "stdout",
     "output_type": "stream",
     "text": [
      "Requirement already satisfied: pycountry in c:\\users\\beatr\\anaconda3\\lib\\site-packages (23.12.11)\n"
     ]
    }
   ],
   "source": [
    "!pip install dash\n",
    "!pip install dash_bootstrap_components\n",
    "!pip install wordcloud\n",
    "!pip install pycountry"
   ]
  },
  {
   "cell_type": "markdown",
   "metadata": {},
   "source": [
    "## Loading Database"
   ]
  },
  {
   "cell_type": "code",
   "execution_count": 1,
   "metadata": {},
   "outputs": [
    {
     "name": "stdout",
     "output_type": "stream",
     "text": [
      "<class 'pandas.core.frame.DataFrame'>\n",
      "RangeIndex: 3755 entries, 0 to 3754\n",
      "Data columns (total 11 columns):\n",
      " #   Column              Non-Null Count  Dtype \n",
      "---  ------              --------------  ----- \n",
      " 0   work_year           3755 non-null   int64 \n",
      " 1   experience_level    3755 non-null   object\n",
      " 2   employment_type     3755 non-null   object\n",
      " 3   job_title           3755 non-null   object\n",
      " 4   salary              3755 non-null   int64 \n",
      " 5   salary_currency     3755 non-null   object\n",
      " 6   salary_in_usd       3755 non-null   int64 \n",
      " 7   employee_residence  3755 non-null   object\n",
      " 8   remote_ratio        3755 non-null   int64 \n",
      " 9   company_location    3755 non-null   object\n",
      " 10  company_size        3755 non-null   object\n",
      "dtypes: int64(4), object(7)\n",
      "memory usage: 322.8+ KB\n"
     ]
    }
   ],
   "source": [
    "import dash\n",
    "from dash import dcc, html\n",
    "from dash.dependencies import Input, Output\n",
    "import dash_bootstrap_components as dbc\n",
    "import plotly.express as px\n",
    "import plotly.graph_objects as go\n",
    "import pandas as pd\n",
    "import pycountry\n",
    "from wordcloud import WordCloud\n",
    "\n",
    "# Acquiring data\n",
    "df = pd.read_csv('ds_salaries.csv')\n",
    "df.head()\n",
    "df.info()"
   ]
  },
  {
   "cell_type": "markdown",
   "metadata": {},
   "source": [
    "## Parsing"
   ]
  },
  {
   "cell_type": "code",
   "execution_count": 2,
   "metadata": {},
   "outputs": [],
   "source": [
    "# Funzione per convertire i codici ISO o abbreviazioni in nomi completi di paesi\n",
    "def country_name_from_code(code):\n",
    "    try:\n",
    "        return pycountry.countries.lookup(code).name\n",
    "    except LookupError:\n",
    "        return None"
   ]
  },
  {
   "cell_type": "code",
   "execution_count": 3,
   "metadata": {},
   "outputs": [],
   "source": [
    "# Fix\n",
    "df['company_location'] = df['company_location'].apply(country_name_from_code)\n",
    "df['employee_residence'] = df['employee_residence'].apply(country_name_from_code)\n",
    "\n",
    "df['experience_level'] = df['experience_level'].replace('EN', 'Entry-level')\n",
    "df['experience_level'] = df['experience_level'].replace('MI', 'Mid-level')\n",
    "df['experience_level'] = df['experience_level'].replace('SE', 'Senior')\n",
    "df['experience_level'] = df['experience_level'].replace('EX', 'Executive')\n",
    "\n",
    "df['employment_type'] = df['employment_type'].replace('PT', 'Part-time')\n",
    "df['employment_type'] = df['employment_type'].replace('FT', 'Full-time')\n",
    "df['employment_type'] = df['employment_type'].replace('CT', 'Contract')\n",
    "df['employment_type'] = df['employment_type'].replace('FL', 'Freelance')\n",
    "\n",
    "df['company_size'] = df['company_size'].replace('L', \"Large\")\n",
    "df['company_size'] = df['company_size'].replace('M', \"Medium\")\n",
    "df['company_size'] = df['company_size'].replace('S', \"Small\")\n",
    "\n",
    "df['remote_ratio'] = df['remote_ratio'].replace(0,'On-Site')\n",
    "df['remote_ratio'] = df['remote_ratio'].replace(50,'Half-Remote')\n",
    "df['remote_ratio'] = df['remote_ratio'].replace(100,'Full-Remote')\n",
    "\n",
    "\n",
    "\n",
    "df['job_title'] = df['job_title'].apply(lambda x: 'Data Analyst' if x == 'Analyst Data' else x)"
   ]
  },
  {
   "cell_type": "markdown",
   "metadata": {},
   "source": [
    "## Charts"
   ]
  },
  {
   "cell_type": "markdown",
   "metadata": {},
   "source": [
    "### question 1, chart 1"
   ]
  },
  {
   "cell_type": "code",
   "execution_count": 4,
   "metadata": {},
   "outputs": [],
   "source": [
    "# World Cloud\n",
    "\n",
    "wordcloud = WordCloud(width=1200, height=700, background_color='black', colormap='Blues').generate_from_frequencies(\n",
    "    df['job_title'].value_counts().to_dict()\n",
    ")\n",
    "word_fig = go.Figure(\n",
    "                data=[go.Image(z=wordcloud.to_array())],\n",
    "                layout=go.Layout(\n",
    "                    width=1200,\n",
    "                    height=700,\n",
    "                    xaxis_showticklabels=False,\n",
    "                    yaxis_showticklabels=False,\n",
    "                    hovermode=False\n",
    "                ),\n",
    "            )"
   ]
  },
  {
   "cell_type": "markdown",
   "metadata": {},
   "source": [
    "### question 1, chart 2"
   ]
  },
  {
   "cell_type": "code",
   "execution_count": 5,
   "metadata": {},
   "outputs": [],
   "source": [
    "# 1a domanda, grafico 2a\n",
    "# Calcola i salari medi per ciascun titolo di lavoro e ordina i risultati\n",
    "df_mean_salary_job_title = df.groupby('job_title')['salary_in_usd'].mean().reset_index().sort_values('salary_in_usd', ascending=False)\n",
    "fig_mean_salary_job_title_sorted = px.bar(df_mean_salary_job_title,\n",
    "                                          y='job_title', x='salary_in_usd', orientation='h',\n",
    "                                          labels={'salary_in_usd': 'Salario Medio (USD)',\n",
    "                                                  'job_title': 'Titolo di Lavoro'},\n",
    "                                          title='TOP averange salary',\n",
    "                                          template=\"plotly_dark\", height=600)"
   ]
  },
  {
   "cell_type": "markdown",
   "metadata": {},
   "source": [
    "### question 1, chart 3"
   ]
  },
  {
   "cell_type": "code",
   "execution_count": 6,
   "metadata": {},
   "outputs": [
    {
     "data": {
      "application/vnd.plotly.v1+json": {
       "config": {
        "plotlyServerURL": "https://plot.ly"
       },
       "data": [
        {
         "customdata": [
          [
           "Executive",
           6
          ],
          [
           "Executive",
           8
          ],
          [
           "Executive",
           51
          ],
          [
           "Executive",
           5
          ],
          [
           "Executive",
           7
          ],
          [
           "Executive",
           12
          ],
          [
           "Executive",
           8
          ]
         ],
         "hovertemplate": "<b>%{hovertext}</b><br><br>experience_level=%{customdata[0]}<br>job_title=%{x}<br>Salary in $=%{y}<br>Job Count=%{customdata[1]}<extra></extra>",
         "hovertext": [
          "Head of Data",
          "Director of Data Science",
          "Data Engineer",
          "Data Science Manager",
          "Head of Data Science",
          "Data Scientist",
          "Analytics Engineer"
         ],
         "legendgroup": "Executive",
         "marker": {
          "color": "#636efa",
          "line": {
           "color": "DarkSlateGrey",
           "width": 2
          },
          "size": [
           6,
           8,
           51,
           5,
           7,
           12,
           8
          ],
          "sizemode": "area",
          "sizeref": 1.795,
          "symbol": "circle"
         },
         "mode": "markers",
         "name": "Executive",
         "orientation": "v",
         "showlegend": true,
         "type": "scatter",
         "x": [
          "Head of Data",
          "Director of Data Science",
          "Data Engineer",
          "Data Science Manager",
          "Head of Data Science",
          "Data Scientist",
          "Analytics Engineer"
         ],
         "xaxis": "x",
         "y": [
          238183.33333333334,
          224384.5,
          209920.96078431373,
          189280,
          182075.7142857143,
          180645.83333333334,
          175125
         ],
         "yaxis": "y"
        },
        {
         "customdata": [
          [
           "Senior",
           9
          ],
          [
           "Senior",
           45
          ],
          [
           "Senior",
           5
          ],
          [
           "Senior",
           52
          ],
          [
           "Senior",
           21
          ],
          [
           "Senior",
           11
          ],
          [
           "Senior",
           49
          ],
          [
           "Senior",
           12
          ],
          [
           "Senior",
           22
          ],
          [
           "Senior",
           209
          ],
          [
           "Senior",
           6
          ],
          [
           "Senior",
           92
          ],
          [
           "Senior",
           608
          ],
          [
           "Senior",
           81
          ],
          [
           "Senior",
           7
          ],
          [
           "Senior",
           5
          ],
          [
           "Senior",
           718
          ],
          [
           "Senior",
           8
          ],
          [
           "Senior",
           5
          ],
          [
           "Senior",
           12
          ],
          [
           "Senior",
           11
          ],
          [
           "Senior",
           20
          ],
          [
           "Senior",
           380
          ],
          [
           "Senior",
           7
          ],
          [
           "Senior",
           9
          ],
          [
           "Senior",
           11
          ],
          [
           "Senior",
           6
          ]
         ],
         "hovertemplate": "<b>%{hovertext}</b><br><br>experience_level=%{customdata[0]}<br>job_title=%{x}<br>Salary in $=%{y}<br>Job Count=%{customdata[1]}<extra></extra>",
         "hovertext": [
          "Machine Learning Software Engineer",
          "Data Science Manager",
          "Data Science Lead",
          "Applied Scientist",
          "ML Engineer",
          "Machine Learning Scientist",
          "Research Scientist",
          "Computer Vision Engineer",
          "Research Engineer",
          "Machine Learning Engineer",
          "Principal Data Scientist",
          "Data Architect",
          "Data Scientist",
          "Analytics Engineer",
          "Machine Learning Infrastructure Engineer",
          "Cloud Database Engineer",
          "Data Engineer",
          "ETL Developer",
          "BI Analyst",
          "Data Analytics Manager",
          "BI Developer",
          "Data Manager",
          "Data Analyst",
          "Lead Data Scientist",
          "Data Specialist",
          "Data Science Consultant",
          "Data Quality Analyst"
         ],
         "legendgroup": "Senior",
         "marker": {
          "color": "#EF553B",
          "line": {
           "color": "DarkSlateGrey",
           "width": 2
          },
          "size": [
           9,
           45,
           5,
           52,
           21,
           11,
           49,
           12,
           22,
           209,
           6,
           92,
           608,
           81,
           7,
           5,
           718,
           8,
           5,
           12,
           11,
           20,
           380,
           7,
           9,
           11,
           6
          ],
          "sizemode": "area",
          "sizeref": 1.795,
          "symbol": "circle"
         },
         "mode": "markers",
         "name": "Senior",
         "orientation": "v",
         "showlegend": true,
         "type": "scatter",
         "x": [
          "Machine Learning Software Engineer",
          "Data Science Manager",
          "Data Science Lead",
          "Applied Scientist",
          "ML Engineer",
          "Machine Learning Scientist",
          "Research Scientist",
          "Computer Vision Engineer",
          "Research Engineer",
          "Machine Learning Engineer",
          "Principal Data Scientist",
          "Data Architect",
          "Data Scientist",
          "Analytics Engineer",
          "Machine Learning Infrastructure Engineer",
          "Cloud Database Engineer",
          "Data Engineer",
          "ETL Developer",
          "BI Analyst",
          "Data Analytics Manager",
          "BI Developer",
          "Data Manager",
          "Data Analyst",
          "Lead Data Scientist",
          "Data Specialist",
          "Data Science Consultant",
          "Data Quality Analyst"
         ],
         "xaxis": "x",
         "y": [
          212688.88888888888,
          197028.2,
          193400,
          192907.6923076923,
          192701.38095238095,
          188086.36363636365,
          179892.97959183675,
          177108.91666666666,
          174773.18181818182,
          170268.58373205742,
          169728.16666666666,
          162500.98913043478,
          158990.9605263158,
          158404.02469135803,
          155677.85714285713,
          155000,
          153210.41364902508,
          151183.75,
          146000,
          137195,
          129818.18181818182,
          120695.55,
          119930.21578947369,
          119773.42857142857,
          117777.77777777778,
          115359.36363636363,
          82863.33333333333
         ],
         "yaxis": "y"
        },
        {
         "customdata": [
          [
           "Mid-level",
           5
          ],
          [
           "Mid-level",
           8
          ],
          [
           "Mid-level",
           7
          ],
          [
           "Mid-level",
           8
          ],
          [
           "Mid-level",
           23
          ],
          [
           "Mid-level",
           11
          ],
          [
           "Mid-level",
           6
          ],
          [
           "Mid-level",
           59
          ],
          [
           "Mid-level",
           6
          ],
          [
           "Mid-level",
           11
          ],
          [
           "Mid-level",
           5
          ],
          [
           "Mid-level",
           5
          ],
          [
           "Mid-level",
           205
          ],
          [
           "Mid-level",
           13
          ],
          [
           "Mid-level",
           167
          ],
          [
           "Mid-level",
           161
          ],
          [
           "Mid-level",
           6
          ],
          [
           "Mid-level",
           5
          ],
          [
           "Mid-level",
           8
          ],
          [
           "Mid-level",
           7
          ]
         ],
         "hovertemplate": "<b>%{hovertext}</b><br><br>experience_level=%{customdata[0]}<br>job_title=%{x}<br>Salary in $=%{y}<br>Job Count=%{customdata[1]}<extra></extra>",
         "hovertext": [
          "Research Engineer",
          "Data Science Manager",
          "Data Architect",
          "Data Analytics Manager",
          "Research Scientist",
          "Machine Learning Scientist",
          "Applied Machine Learning Scientist",
          "Machine Learning Engineer",
          "Data Manager",
          "ML Engineer",
          "AI Scientist",
          "Machine Learning Researcher",
          "Data Engineer",
          "Analytics Engineer",
          "Data Analyst",
          "Data Scientist",
          "Data Operations Engineer",
          "Data Science Consultant",
          "Business Data Analyst",
          "BI Data Analyst"
         ],
         "legendgroup": "Mid-level",
         "marker": {
          "color": "#00cc96",
          "line": {
           "color": "DarkSlateGrey",
           "width": 2
          },
          "size": [
           5,
           8,
           7,
           8,
           23,
           11,
           6,
           59,
           6,
           11,
           5,
           5,
           205,
           13,
           167,
           161,
           6,
           5,
           8,
           7
          ],
          "sizemode": "area",
          "sizeref": 1.795,
          "symbol": "circle"
         },
         "mode": "markers",
         "name": "Mid-level",
         "orientation": "v",
         "showlegend": true,
         "type": "scatter",
         "x": [
          "Research Engineer",
          "Data Science Manager",
          "Data Architect",
          "Data Analytics Manager",
          "Research Scientist",
          "Machine Learning Scientist",
          "Applied Machine Learning Scientist",
          "Machine Learning Engineer",
          "Data Manager",
          "ML Engineer",
          "AI Scientist",
          "Machine Learning Researcher",
          "Data Engineer",
          "Analytics Engineer",
          "Data Analyst",
          "Data Scientist",
          "Data Operations Engineer",
          "Data Science Consultant",
          "Business Data Analyst",
          "BI Data Analyst"
         ],
         "xaxis": "x",
         "y": [
          178000,
          160187.5,
          149714.2857142857,
          147500,
          141575.08695652173,
          139554.54545454544,
          135820.5,
          121011.84745762713,
          119833.33333333333,
          118206.81818181818,
          117726.2,
          117047.2,
          106074.89268292683,
          102480.23076923077,
          101516.62275449102,
          93945.8198757764,
          80000,
          76980.4,
          74942.625,
          69739.28571428571
         ],
         "yaxis": "y"
        },
        {
         "customdata": [
          [
           "Entry-level",
           6
          ],
          [
           "Entry-level",
           6
          ],
          [
           "Entry-level",
           10
          ],
          [
           "Entry-level",
           9
          ],
          [
           "Entry-level",
           21
          ],
          [
           "Entry-level",
           66
          ],
          [
           "Entry-level",
           59
          ],
          [
           "Entry-level",
           5
          ],
          [
           "Entry-level",
           63
          ],
          [
           "Entry-level",
           7
          ],
          [
           "Entry-level",
           7
          ],
          [
           "Entry-level",
           6
          ],
          [
           "Entry-level",
           6
          ]
         ],
         "hovertemplate": "<b>%{hovertext}</b><br><br>experience_level=%{customdata[0]}<br>job_title=%{x}<br>Salary in $=%{y}<br>Job Count=%{customdata[1]}<extra></extra>",
         "hovertext": [
          "Applied Scientist",
          "AI Developer",
          "Research Engineer",
          "Research Scientist",
          "Machine Learning Engineer",
          "Data Engineer",
          "Data Scientist",
          "Machine Learning Developer",
          "Data Analyst",
          "AI Scientist",
          "Data Science Consultant",
          "Business Data Analyst",
          "BI Data Analyst"
         ],
         "legendgroup": "Entry-level",
         "marker": {
          "color": "#ab63fa",
          "line": {
           "color": "DarkSlateGrey",
           "width": 2
          },
          "size": [
           6,
           6,
           10,
           9,
           21,
           66,
           59,
           5,
           63,
           7,
           7,
           6,
           6
          ],
          "sizemode": "area",
          "sizeref": 1.795,
          "symbol": "circle"
         },
         "mode": "markers",
         "name": "Entry-level",
         "orientation": "v",
         "showlegend": true,
         "type": "scatter",
         "x": [
          "Applied Scientist",
          "AI Developer",
          "Research Engineer",
          "Research Scientist",
          "Machine Learning Engineer",
          "Data Engineer",
          "Data Scientist",
          "Machine Learning Developer",
          "Data Analyst",
          "AI Scientist",
          "Data Science Consultant",
          "Business Data Analyst",
          "BI Data Analyst"
         ],
         "xaxis": "x",
         "y": [
          167356.66666666666,
          130884.5,
          130000,
          118280.88888888889,
          94275.57142857143,
          91526.74242424243,
          74085.96610169491,
          73600,
          59802.74603174603,
          52781.28571428572,
          52098,
          48573.333333333336,
          32755
         ],
         "yaxis": "y"
        }
       ],
       "layout": {
        "height": 700,
        "legend": {
         "itemsizing": "constant",
         "title": {
          "text": "Experience Level"
         },
         "tracegroupgap": 0
        },
        "template": {
         "data": {
          "bar": [
           {
            "error_x": {
             "color": "#f2f5fa"
            },
            "error_y": {
             "color": "#f2f5fa"
            },
            "marker": {
             "line": {
              "color": "rgb(17,17,17)",
              "width": 0.5
             },
             "pattern": {
              "fillmode": "overlay",
              "size": 10,
              "solidity": 0.2
             }
            },
            "type": "bar"
           }
          ],
          "barpolar": [
           {
            "marker": {
             "line": {
              "color": "rgb(17,17,17)",
              "width": 0.5
             },
             "pattern": {
              "fillmode": "overlay",
              "size": 10,
              "solidity": 0.2
             }
            },
            "type": "barpolar"
           }
          ],
          "carpet": [
           {
            "aaxis": {
             "endlinecolor": "#A2B1C6",
             "gridcolor": "#506784",
             "linecolor": "#506784",
             "minorgridcolor": "#506784",
             "startlinecolor": "#A2B1C6"
            },
            "baxis": {
             "endlinecolor": "#A2B1C6",
             "gridcolor": "#506784",
             "linecolor": "#506784",
             "minorgridcolor": "#506784",
             "startlinecolor": "#A2B1C6"
            },
            "type": "carpet"
           }
          ],
          "choropleth": [
           {
            "colorbar": {
             "outlinewidth": 0,
             "ticks": ""
            },
            "type": "choropleth"
           }
          ],
          "contour": [
           {
            "colorbar": {
             "outlinewidth": 0,
             "ticks": ""
            },
            "colorscale": [
             [
              0,
              "#0d0887"
             ],
             [
              0.1111111111111111,
              "#46039f"
             ],
             [
              0.2222222222222222,
              "#7201a8"
             ],
             [
              0.3333333333333333,
              "#9c179e"
             ],
             [
              0.4444444444444444,
              "#bd3786"
             ],
             [
              0.5555555555555556,
              "#d8576b"
             ],
             [
              0.6666666666666666,
              "#ed7953"
             ],
             [
              0.7777777777777778,
              "#fb9f3a"
             ],
             [
              0.8888888888888888,
              "#fdca26"
             ],
             [
              1,
              "#f0f921"
             ]
            ],
            "type": "contour"
           }
          ],
          "contourcarpet": [
           {
            "colorbar": {
             "outlinewidth": 0,
             "ticks": ""
            },
            "type": "contourcarpet"
           }
          ],
          "heatmap": [
           {
            "colorbar": {
             "outlinewidth": 0,
             "ticks": ""
            },
            "colorscale": [
             [
              0,
              "#0d0887"
             ],
             [
              0.1111111111111111,
              "#46039f"
             ],
             [
              0.2222222222222222,
              "#7201a8"
             ],
             [
              0.3333333333333333,
              "#9c179e"
             ],
             [
              0.4444444444444444,
              "#bd3786"
             ],
             [
              0.5555555555555556,
              "#d8576b"
             ],
             [
              0.6666666666666666,
              "#ed7953"
             ],
             [
              0.7777777777777778,
              "#fb9f3a"
             ],
             [
              0.8888888888888888,
              "#fdca26"
             ],
             [
              1,
              "#f0f921"
             ]
            ],
            "type": "heatmap"
           }
          ],
          "heatmapgl": [
           {
            "colorbar": {
             "outlinewidth": 0,
             "ticks": ""
            },
            "colorscale": [
             [
              0,
              "#0d0887"
             ],
             [
              0.1111111111111111,
              "#46039f"
             ],
             [
              0.2222222222222222,
              "#7201a8"
             ],
             [
              0.3333333333333333,
              "#9c179e"
             ],
             [
              0.4444444444444444,
              "#bd3786"
             ],
             [
              0.5555555555555556,
              "#d8576b"
             ],
             [
              0.6666666666666666,
              "#ed7953"
             ],
             [
              0.7777777777777778,
              "#fb9f3a"
             ],
             [
              0.8888888888888888,
              "#fdca26"
             ],
             [
              1,
              "#f0f921"
             ]
            ],
            "type": "heatmapgl"
           }
          ],
          "histogram": [
           {
            "marker": {
             "pattern": {
              "fillmode": "overlay",
              "size": 10,
              "solidity": 0.2
             }
            },
            "type": "histogram"
           }
          ],
          "histogram2d": [
           {
            "colorbar": {
             "outlinewidth": 0,
             "ticks": ""
            },
            "colorscale": [
             [
              0,
              "#0d0887"
             ],
             [
              0.1111111111111111,
              "#46039f"
             ],
             [
              0.2222222222222222,
              "#7201a8"
             ],
             [
              0.3333333333333333,
              "#9c179e"
             ],
             [
              0.4444444444444444,
              "#bd3786"
             ],
             [
              0.5555555555555556,
              "#d8576b"
             ],
             [
              0.6666666666666666,
              "#ed7953"
             ],
             [
              0.7777777777777778,
              "#fb9f3a"
             ],
             [
              0.8888888888888888,
              "#fdca26"
             ],
             [
              1,
              "#f0f921"
             ]
            ],
            "type": "histogram2d"
           }
          ],
          "histogram2dcontour": [
           {
            "colorbar": {
             "outlinewidth": 0,
             "ticks": ""
            },
            "colorscale": [
             [
              0,
              "#0d0887"
             ],
             [
              0.1111111111111111,
              "#46039f"
             ],
             [
              0.2222222222222222,
              "#7201a8"
             ],
             [
              0.3333333333333333,
              "#9c179e"
             ],
             [
              0.4444444444444444,
              "#bd3786"
             ],
             [
              0.5555555555555556,
              "#d8576b"
             ],
             [
              0.6666666666666666,
              "#ed7953"
             ],
             [
              0.7777777777777778,
              "#fb9f3a"
             ],
             [
              0.8888888888888888,
              "#fdca26"
             ],
             [
              1,
              "#f0f921"
             ]
            ],
            "type": "histogram2dcontour"
           }
          ],
          "mesh3d": [
           {
            "colorbar": {
             "outlinewidth": 0,
             "ticks": ""
            },
            "type": "mesh3d"
           }
          ],
          "parcoords": [
           {
            "line": {
             "colorbar": {
              "outlinewidth": 0,
              "ticks": ""
             }
            },
            "type": "parcoords"
           }
          ],
          "pie": [
           {
            "automargin": true,
            "type": "pie"
           }
          ],
          "scatter": [
           {
            "marker": {
             "line": {
              "color": "#283442"
             }
            },
            "type": "scatter"
           }
          ],
          "scatter3d": [
           {
            "line": {
             "colorbar": {
              "outlinewidth": 0,
              "ticks": ""
             }
            },
            "marker": {
             "colorbar": {
              "outlinewidth": 0,
              "ticks": ""
             }
            },
            "type": "scatter3d"
           }
          ],
          "scattercarpet": [
           {
            "marker": {
             "colorbar": {
              "outlinewidth": 0,
              "ticks": ""
             }
            },
            "type": "scattercarpet"
           }
          ],
          "scattergeo": [
           {
            "marker": {
             "colorbar": {
              "outlinewidth": 0,
              "ticks": ""
             }
            },
            "type": "scattergeo"
           }
          ],
          "scattergl": [
           {
            "marker": {
             "line": {
              "color": "#283442"
             }
            },
            "type": "scattergl"
           }
          ],
          "scattermapbox": [
           {
            "marker": {
             "colorbar": {
              "outlinewidth": 0,
              "ticks": ""
             }
            },
            "type": "scattermapbox"
           }
          ],
          "scatterpolar": [
           {
            "marker": {
             "colorbar": {
              "outlinewidth": 0,
              "ticks": ""
             }
            },
            "type": "scatterpolar"
           }
          ],
          "scatterpolargl": [
           {
            "marker": {
             "colorbar": {
              "outlinewidth": 0,
              "ticks": ""
             }
            },
            "type": "scatterpolargl"
           }
          ],
          "scatterternary": [
           {
            "marker": {
             "colorbar": {
              "outlinewidth": 0,
              "ticks": ""
             }
            },
            "type": "scatterternary"
           }
          ],
          "surface": [
           {
            "colorbar": {
             "outlinewidth": 0,
             "ticks": ""
            },
            "colorscale": [
             [
              0,
              "#0d0887"
             ],
             [
              0.1111111111111111,
              "#46039f"
             ],
             [
              0.2222222222222222,
              "#7201a8"
             ],
             [
              0.3333333333333333,
              "#9c179e"
             ],
             [
              0.4444444444444444,
              "#bd3786"
             ],
             [
              0.5555555555555556,
              "#d8576b"
             ],
             [
              0.6666666666666666,
              "#ed7953"
             ],
             [
              0.7777777777777778,
              "#fb9f3a"
             ],
             [
              0.8888888888888888,
              "#fdca26"
             ],
             [
              1,
              "#f0f921"
             ]
            ],
            "type": "surface"
           }
          ],
          "table": [
           {
            "cells": {
             "fill": {
              "color": "#506784"
             },
             "line": {
              "color": "rgb(17,17,17)"
             }
            },
            "header": {
             "fill": {
              "color": "#2a3f5f"
             },
             "line": {
              "color": "rgb(17,17,17)"
             }
            },
            "type": "table"
           }
          ]
         },
         "layout": {
          "annotationdefaults": {
           "arrowcolor": "#f2f5fa",
           "arrowhead": 0,
           "arrowwidth": 1
          },
          "autotypenumbers": "strict",
          "coloraxis": {
           "colorbar": {
            "outlinewidth": 0,
            "ticks": ""
           }
          },
          "colorscale": {
           "diverging": [
            [
             0,
             "#8e0152"
            ],
            [
             0.1,
             "#c51b7d"
            ],
            [
             0.2,
             "#de77ae"
            ],
            [
             0.3,
             "#f1b6da"
            ],
            [
             0.4,
             "#fde0ef"
            ],
            [
             0.5,
             "#f7f7f7"
            ],
            [
             0.6,
             "#e6f5d0"
            ],
            [
             0.7,
             "#b8e186"
            ],
            [
             0.8,
             "#7fbc41"
            ],
            [
             0.9,
             "#4d9221"
            ],
            [
             1,
             "#276419"
            ]
           ],
           "sequential": [
            [
             0,
             "#0d0887"
            ],
            [
             0.1111111111111111,
             "#46039f"
            ],
            [
             0.2222222222222222,
             "#7201a8"
            ],
            [
             0.3333333333333333,
             "#9c179e"
            ],
            [
             0.4444444444444444,
             "#bd3786"
            ],
            [
             0.5555555555555556,
             "#d8576b"
            ],
            [
             0.6666666666666666,
             "#ed7953"
            ],
            [
             0.7777777777777778,
             "#fb9f3a"
            ],
            [
             0.8888888888888888,
             "#fdca26"
            ],
            [
             1,
             "#f0f921"
            ]
           ],
           "sequentialminus": [
            [
             0,
             "#0d0887"
            ],
            [
             0.1111111111111111,
             "#46039f"
            ],
            [
             0.2222222222222222,
             "#7201a8"
            ],
            [
             0.3333333333333333,
             "#9c179e"
            ],
            [
             0.4444444444444444,
             "#bd3786"
            ],
            [
             0.5555555555555556,
             "#d8576b"
            ],
            [
             0.6666666666666666,
             "#ed7953"
            ],
            [
             0.7777777777777778,
             "#fb9f3a"
            ],
            [
             0.8888888888888888,
             "#fdca26"
            ],
            [
             1,
             "#f0f921"
            ]
           ]
          },
          "colorway": [
           "#636efa",
           "#EF553B",
           "#00cc96",
           "#ab63fa",
           "#FFA15A",
           "#19d3f3",
           "#FF6692",
           "#B6E880",
           "#FF97FF",
           "#FECB52"
          ],
          "font": {
           "color": "#f2f5fa"
          },
          "geo": {
           "bgcolor": "rgb(17,17,17)",
           "lakecolor": "rgb(17,17,17)",
           "landcolor": "rgb(17,17,17)",
           "showlakes": true,
           "showland": true,
           "subunitcolor": "#506784"
          },
          "hoverlabel": {
           "align": "left"
          },
          "hovermode": "closest",
          "mapbox": {
           "style": "dark"
          },
          "paper_bgcolor": "rgb(17,17,17)",
          "plot_bgcolor": "rgb(17,17,17)",
          "polar": {
           "angularaxis": {
            "gridcolor": "#506784",
            "linecolor": "#506784",
            "ticks": ""
           },
           "bgcolor": "rgb(17,17,17)",
           "radialaxis": {
            "gridcolor": "#506784",
            "linecolor": "#506784",
            "ticks": ""
           }
          },
          "scene": {
           "xaxis": {
            "backgroundcolor": "rgb(17,17,17)",
            "gridcolor": "#506784",
            "gridwidth": 2,
            "linecolor": "#506784",
            "showbackground": true,
            "ticks": "",
            "zerolinecolor": "#C8D4E3"
           },
           "yaxis": {
            "backgroundcolor": "rgb(17,17,17)",
            "gridcolor": "#506784",
            "gridwidth": 2,
            "linecolor": "#506784",
            "showbackground": true,
            "ticks": "",
            "zerolinecolor": "#C8D4E3"
           },
           "zaxis": {
            "backgroundcolor": "rgb(17,17,17)",
            "gridcolor": "#506784",
            "gridwidth": 2,
            "linecolor": "#506784",
            "showbackground": true,
            "ticks": "",
            "zerolinecolor": "#C8D4E3"
           }
          },
          "shapedefaults": {
           "line": {
            "color": "#f2f5fa"
           }
          },
          "sliderdefaults": {
           "bgcolor": "#C8D4E3",
           "bordercolor": "rgb(17,17,17)",
           "borderwidth": 1,
           "tickwidth": 0
          },
          "ternary": {
           "aaxis": {
            "gridcolor": "#506784",
            "linecolor": "#506784",
            "ticks": ""
           },
           "baxis": {
            "gridcolor": "#506784",
            "linecolor": "#506784",
            "ticks": ""
           },
           "bgcolor": "rgb(17,17,17)",
           "caxis": {
            "gridcolor": "#506784",
            "linecolor": "#506784",
            "ticks": ""
           }
          },
          "title": {
           "x": 0.05
          },
          "updatemenudefaults": {
           "bgcolor": "#506784",
           "borderwidth": 0
          },
          "xaxis": {
           "automargin": true,
           "gridcolor": "#283442",
           "linecolor": "#506784",
           "ticks": "",
           "title": {
            "standoff": 15
           },
           "zerolinecolor": "#283442",
           "zerolinewidth": 2
          },
          "yaxis": {
           "automargin": true,
           "gridcolor": "#283442",
           "linecolor": "#506784",
           "ticks": "",
           "title": {
            "standoff": 15
           },
           "zerolinecolor": "#283442",
           "zerolinewidth": 2
          }
         }
        },
        "title": {
         "text": "Jobs Distribution from 2020 to 2023 (with Minimum 5 Observations)"
        },
        "xaxis": {
         "anchor": "y",
         "categoryorder": "total ascending",
         "domain": [
          0,
          1
         ],
         "tickangle": 45,
         "title": {
          "text": "Job Title"
         }
        },
        "yaxis": {
         "anchor": "x",
         "domain": [
          0,
          1
         ],
         "title": {
          "text": "Average Salary in $"
         }
        }
       }
      }
     },
     "metadata": {},
     "output_type": "display_data"
    }
   ],
   "source": [
    "# Filtraggio dei dati per gli anni 2021, 2022, e 2023\n",
    "df_filtered = df[df['work_year'].isin([2020,2021, 2022, 2023])]\n",
    "\n",
    "# Calcolo del salario medio per titolo di lavoro ed esperienza\n",
    "average_salary_by_job_experience = df_filtered.groupby(['job_title', 'experience_level'])['salary_in_usd'].mean().reset_index()\n",
    "average_salary_by_job_experience.columns = ['job_title', 'experience_level', 'Salary in $']\n",
    "\n",
    "# Calcolo del conteggio dei lavori per titolo di lavoro ed esperienza\n",
    "job_counts = df_filtered.groupby(['job_title', 'experience_level'])['job_title'].count().reset_index(name='Job Count')\n",
    "\n",
    "# Unione dei conteggi dei lavori con i dati dei salari medi\n",
    "merged_data = average_salary_by_job_experience.merge(job_counts, on=['job_title', 'experience_level'])\n",
    "\n",
    "# Ordinamento dei dati per salario in modo decrescente\n",
    "merged_data_sorted = merged_data.sort_values(by='Salary in $', ascending=False)\n",
    "\n",
    "# Filtro per considerare solo i titoli di lavoro con un numero minimo di osservazioni (es. almeno 5 osservazioni)\n",
    "filtered_data = merged_data_sorted[merged_data_sorted['Job Count'] >= 5]\n",
    "\n",
    "# Visualizzazione dei primi 10 record per controllare i dati filtrati\n",
    "filtered_data.head(10)\n",
    "\n",
    "# Creazione del bubble chart utilizzando i dati filtrati\n",
    "fig_bolle = px.scatter(\n",
    "    filtered_data,  # Limitazione ai primi 40 record per leggibilità\n",
    "    x='job_title',\n",
    "    y='Salary in $',\n",
    "    size='Job Count',\n",
    "    color='experience_level',\n",
    "    template='plotly_dark',\n",
    "    title='Jobs Distribution from 2020 to 2023 (with Minimum 5 Observations)',\n",
    "    hover_name='job_title',  # Mostra il titolo del lavoro quando si passa sopra una bolla\n",
    "    hover_data={'experience_level': True, 'Salary in $': True, 'Job Count': True}  # Dati aggiuntivi su hover\n",
    ")\n",
    "\n",
    "fig_bolle.update_layout(\n",
    "    xaxis=dict(tickangle=45),\n",
    "    xaxis_title='Job Title',\n",
    "    yaxis_title='Average Salary in $',\n",
    "    legend_title='Experience Level'\n",
    ")\n",
    "\n",
    "fig_bolle.update_traces(marker=dict(line=dict(width=2, color='DarkSlateGrey')))  # Contorno delle bolle\n",
    "fig_bolle.update_layout(xaxis={'categoryorder':'total ascending'})  # Ordinamento delle etichette sull'asse x\n",
    "fig_bolle.update_layout(height=700)  # Dimensioni del grafico\n",
    "fig_bolle.show()\n"
   ]
  },
  {
   "cell_type": "markdown",
   "metadata": {},
   "source": [
    "### question 1, chart 4 is a callback, you will find it below"
   ]
  },
  {
   "cell_type": "markdown",
   "metadata": {},
   "source": [
    "### question 2, chart 1"
   ]
  },
  {
   "cell_type": "code",
   "execution_count": 7,
   "metadata": {},
   "outputs": [
    {
     "data": {
      "application/vnd.plotly.v1+json": {
       "config": {
        "plotlyServerURL": "https://plot.ly"
       },
       "data": [
        {
         "coloraxis": "coloraxis",
         "geo": "geo",
         "hovertemplate": "company_location=%{location}<br>Averange Salary (USD)=%{z}<extra></extra>",
         "locationmode": "country names",
         "locations": [
          "Albania",
          "Algeria",
          "American Samoa",
          "Argentina",
          "Armenia",
          "Australia",
          "Austria",
          "Bahamas",
          "Belgium",
          "Bolivia, Plurinational State of",
          "Bosnia and Herzegovina",
          "Brazil",
          "Canada",
          "Central African Republic",
          "Chile",
          "China",
          "Colombia",
          "Costa Rica",
          "Croatia",
          "Czechia",
          "Denmark",
          "Egypt",
          "Estonia",
          "Finland",
          "France",
          "Germany",
          "Ghana",
          "Greece",
          "Honduras",
          "Hong Kong",
          "Hungary",
          "India",
          "Indonesia",
          "Iran, Islamic Republic of",
          "Iraq",
          "Ireland",
          "Israel",
          "Italy",
          "Japan",
          "Kenya",
          "Latvia",
          "Lithuania",
          "Luxembourg",
          "Malaysia",
          "Malta",
          "Mexico",
          "Moldova, Republic of",
          "Morocco",
          "Netherlands",
          "New Zealand",
          "Nigeria",
          "North Macedonia",
          "Pakistan",
          "Philippines",
          "Poland",
          "Portugal",
          "Puerto Rico",
          "Romania",
          "Russian Federation",
          "Singapore",
          "Slovakia",
          "Slovenia",
          "Spain",
          "Sweden",
          "Switzerland",
          "Thailand",
          "Türkiye",
          "Ukraine",
          "United Arab Emirates",
          "United Kingdom",
          "United States",
          "Viet Nam"
         ],
         "name": "",
         "type": "choropleth",
         "z": [
          10000,
          100000,
          29351,
          25000,
          50000,
          80033.42857142857,
          71354.83333333333,
          45555,
          76864.75,
          7500,
          120000,
          40579.2,
          131917.6896551724,
          48609,
          40038,
          100000,
          64961,
          50000,
          75967.66666666667,
          35200,
          45558,
          22800,
          47416,
          68792.66666666667,
          66138.73529411765,
          88288.80357142857,
          18500,
          51792.5,
          20000,
          65062,
          26709.5,
          30197.741379310344,
          34208,
          100000,
          100000,
          114943.42857142857,
          271446.5,
          41297.75,
          114127.33333333333,
          44636,
          57946.5,
          94812,
          43942.666666666664,
          40000,
          28369,
          97151.1,
          18000,
          10000,
          78738.30769230769,
          125000,
          78000,
          6304,
          20000,
          50000,
          61342.8,
          50538.71428571428,
          167500,
          56827,
          140333.33333333334,
          53675,
          12608,
          62766.75,
          57676.06493506493,
          105000,
          81722,
          23064.333333333332,
          19058,
          57850,
          100000,
          86890.05232558139,
          151822.00953947369,
          12000
         ]
        }
       ],
       "layout": {
        "coloraxis": {
         "colorbar": {
          "title": {
           "text": "Averange Salary (USD)"
          }
         },
         "colorscale": [
          [
           0,
           "rgb(255,255,229)"
          ],
          [
           0.125,
           "rgb(247,252,185)"
          ],
          [
           0.25,
           "rgb(217,240,163)"
          ],
          [
           0.375,
           "rgb(173,221,142)"
          ],
          [
           0.5,
           "rgb(120,198,121)"
          ],
          [
           0.625,
           "rgb(65,171,93)"
          ],
          [
           0.75,
           "rgb(35,132,67)"
          ],
          [
           0.875,
           "rgb(0,104,55)"
          ],
          [
           1,
           "rgb(0,69,41)"
          ]
         ]
        },
        "geo": {
         "center": {},
         "domain": {
          "x": [
           0,
           1
          ],
          "y": [
           0,
           1
          ]
         }
        },
        "legend": {
         "tracegroupgap": 0
        },
        "margin": {
         "t": 60
        },
        "template": {
         "data": {
          "bar": [
           {
            "error_x": {
             "color": "#2a3f5f"
            },
            "error_y": {
             "color": "#2a3f5f"
            },
            "marker": {
             "line": {
              "color": "#E5ECF6",
              "width": 0.5
             },
             "pattern": {
              "fillmode": "overlay",
              "size": 10,
              "solidity": 0.2
             }
            },
            "type": "bar"
           }
          ],
          "barpolar": [
           {
            "marker": {
             "line": {
              "color": "#E5ECF6",
              "width": 0.5
             },
             "pattern": {
              "fillmode": "overlay",
              "size": 10,
              "solidity": 0.2
             }
            },
            "type": "barpolar"
           }
          ],
          "carpet": [
           {
            "aaxis": {
             "endlinecolor": "#2a3f5f",
             "gridcolor": "white",
             "linecolor": "white",
             "minorgridcolor": "white",
             "startlinecolor": "#2a3f5f"
            },
            "baxis": {
             "endlinecolor": "#2a3f5f",
             "gridcolor": "white",
             "linecolor": "white",
             "minorgridcolor": "white",
             "startlinecolor": "#2a3f5f"
            },
            "type": "carpet"
           }
          ],
          "choropleth": [
           {
            "colorbar": {
             "outlinewidth": 0,
             "ticks": ""
            },
            "type": "choropleth"
           }
          ],
          "contour": [
           {
            "colorbar": {
             "outlinewidth": 0,
             "ticks": ""
            },
            "colorscale": [
             [
              0,
              "#0d0887"
             ],
             [
              0.1111111111111111,
              "#46039f"
             ],
             [
              0.2222222222222222,
              "#7201a8"
             ],
             [
              0.3333333333333333,
              "#9c179e"
             ],
             [
              0.4444444444444444,
              "#bd3786"
             ],
             [
              0.5555555555555556,
              "#d8576b"
             ],
             [
              0.6666666666666666,
              "#ed7953"
             ],
             [
              0.7777777777777778,
              "#fb9f3a"
             ],
             [
              0.8888888888888888,
              "#fdca26"
             ],
             [
              1,
              "#f0f921"
             ]
            ],
            "type": "contour"
           }
          ],
          "contourcarpet": [
           {
            "colorbar": {
             "outlinewidth": 0,
             "ticks": ""
            },
            "type": "contourcarpet"
           }
          ],
          "heatmap": [
           {
            "colorbar": {
             "outlinewidth": 0,
             "ticks": ""
            },
            "colorscale": [
             [
              0,
              "#0d0887"
             ],
             [
              0.1111111111111111,
              "#46039f"
             ],
             [
              0.2222222222222222,
              "#7201a8"
             ],
             [
              0.3333333333333333,
              "#9c179e"
             ],
             [
              0.4444444444444444,
              "#bd3786"
             ],
             [
              0.5555555555555556,
              "#d8576b"
             ],
             [
              0.6666666666666666,
              "#ed7953"
             ],
             [
              0.7777777777777778,
              "#fb9f3a"
             ],
             [
              0.8888888888888888,
              "#fdca26"
             ],
             [
              1,
              "#f0f921"
             ]
            ],
            "type": "heatmap"
           }
          ],
          "heatmapgl": [
           {
            "colorbar": {
             "outlinewidth": 0,
             "ticks": ""
            },
            "colorscale": [
             [
              0,
              "#0d0887"
             ],
             [
              0.1111111111111111,
              "#46039f"
             ],
             [
              0.2222222222222222,
              "#7201a8"
             ],
             [
              0.3333333333333333,
              "#9c179e"
             ],
             [
              0.4444444444444444,
              "#bd3786"
             ],
             [
              0.5555555555555556,
              "#d8576b"
             ],
             [
              0.6666666666666666,
              "#ed7953"
             ],
             [
              0.7777777777777778,
              "#fb9f3a"
             ],
             [
              0.8888888888888888,
              "#fdca26"
             ],
             [
              1,
              "#f0f921"
             ]
            ],
            "type": "heatmapgl"
           }
          ],
          "histogram": [
           {
            "marker": {
             "pattern": {
              "fillmode": "overlay",
              "size": 10,
              "solidity": 0.2
             }
            },
            "type": "histogram"
           }
          ],
          "histogram2d": [
           {
            "colorbar": {
             "outlinewidth": 0,
             "ticks": ""
            },
            "colorscale": [
             [
              0,
              "#0d0887"
             ],
             [
              0.1111111111111111,
              "#46039f"
             ],
             [
              0.2222222222222222,
              "#7201a8"
             ],
             [
              0.3333333333333333,
              "#9c179e"
             ],
             [
              0.4444444444444444,
              "#bd3786"
             ],
             [
              0.5555555555555556,
              "#d8576b"
             ],
             [
              0.6666666666666666,
              "#ed7953"
             ],
             [
              0.7777777777777778,
              "#fb9f3a"
             ],
             [
              0.8888888888888888,
              "#fdca26"
             ],
             [
              1,
              "#f0f921"
             ]
            ],
            "type": "histogram2d"
           }
          ],
          "histogram2dcontour": [
           {
            "colorbar": {
             "outlinewidth": 0,
             "ticks": ""
            },
            "colorscale": [
             [
              0,
              "#0d0887"
             ],
             [
              0.1111111111111111,
              "#46039f"
             ],
             [
              0.2222222222222222,
              "#7201a8"
             ],
             [
              0.3333333333333333,
              "#9c179e"
             ],
             [
              0.4444444444444444,
              "#bd3786"
             ],
             [
              0.5555555555555556,
              "#d8576b"
             ],
             [
              0.6666666666666666,
              "#ed7953"
             ],
             [
              0.7777777777777778,
              "#fb9f3a"
             ],
             [
              0.8888888888888888,
              "#fdca26"
             ],
             [
              1,
              "#f0f921"
             ]
            ],
            "type": "histogram2dcontour"
           }
          ],
          "mesh3d": [
           {
            "colorbar": {
             "outlinewidth": 0,
             "ticks": ""
            },
            "type": "mesh3d"
           }
          ],
          "parcoords": [
           {
            "line": {
             "colorbar": {
              "outlinewidth": 0,
              "ticks": ""
             }
            },
            "type": "parcoords"
           }
          ],
          "pie": [
           {
            "automargin": true,
            "type": "pie"
           }
          ],
          "scatter": [
           {
            "fillpattern": {
             "fillmode": "overlay",
             "size": 10,
             "solidity": 0.2
            },
            "type": "scatter"
           }
          ],
          "scatter3d": [
           {
            "line": {
             "colorbar": {
              "outlinewidth": 0,
              "ticks": ""
             }
            },
            "marker": {
             "colorbar": {
              "outlinewidth": 0,
              "ticks": ""
             }
            },
            "type": "scatter3d"
           }
          ],
          "scattercarpet": [
           {
            "marker": {
             "colorbar": {
              "outlinewidth": 0,
              "ticks": ""
             }
            },
            "type": "scattercarpet"
           }
          ],
          "scattergeo": [
           {
            "marker": {
             "colorbar": {
              "outlinewidth": 0,
              "ticks": ""
             }
            },
            "type": "scattergeo"
           }
          ],
          "scattergl": [
           {
            "marker": {
             "colorbar": {
              "outlinewidth": 0,
              "ticks": ""
             }
            },
            "type": "scattergl"
           }
          ],
          "scattermapbox": [
           {
            "marker": {
             "colorbar": {
              "outlinewidth": 0,
              "ticks": ""
             }
            },
            "type": "scattermapbox"
           }
          ],
          "scatterpolar": [
           {
            "marker": {
             "colorbar": {
              "outlinewidth": 0,
              "ticks": ""
             }
            },
            "type": "scatterpolar"
           }
          ],
          "scatterpolargl": [
           {
            "marker": {
             "colorbar": {
              "outlinewidth": 0,
              "ticks": ""
             }
            },
            "type": "scatterpolargl"
           }
          ],
          "scatterternary": [
           {
            "marker": {
             "colorbar": {
              "outlinewidth": 0,
              "ticks": ""
             }
            },
            "type": "scatterternary"
           }
          ],
          "surface": [
           {
            "colorbar": {
             "outlinewidth": 0,
             "ticks": ""
            },
            "colorscale": [
             [
              0,
              "#0d0887"
             ],
             [
              0.1111111111111111,
              "#46039f"
             ],
             [
              0.2222222222222222,
              "#7201a8"
             ],
             [
              0.3333333333333333,
              "#9c179e"
             ],
             [
              0.4444444444444444,
              "#bd3786"
             ],
             [
              0.5555555555555556,
              "#d8576b"
             ],
             [
              0.6666666666666666,
              "#ed7953"
             ],
             [
              0.7777777777777778,
              "#fb9f3a"
             ],
             [
              0.8888888888888888,
              "#fdca26"
             ],
             [
              1,
              "#f0f921"
             ]
            ],
            "type": "surface"
           }
          ],
          "table": [
           {
            "cells": {
             "fill": {
              "color": "#EBF0F8"
             },
             "line": {
              "color": "white"
             }
            },
            "header": {
             "fill": {
              "color": "#C8D4E3"
             },
             "line": {
              "color": "white"
             }
            },
            "type": "table"
           }
          ]
         },
         "layout": {
          "annotationdefaults": {
           "arrowcolor": "#2a3f5f",
           "arrowhead": 0,
           "arrowwidth": 1
          },
          "autotypenumbers": "strict",
          "coloraxis": {
           "colorbar": {
            "outlinewidth": 0,
            "ticks": ""
           }
          },
          "colorscale": {
           "diverging": [
            [
             0,
             "#8e0152"
            ],
            [
             0.1,
             "#c51b7d"
            ],
            [
             0.2,
             "#de77ae"
            ],
            [
             0.3,
             "#f1b6da"
            ],
            [
             0.4,
             "#fde0ef"
            ],
            [
             0.5,
             "#f7f7f7"
            ],
            [
             0.6,
             "#e6f5d0"
            ],
            [
             0.7,
             "#b8e186"
            ],
            [
             0.8,
             "#7fbc41"
            ],
            [
             0.9,
             "#4d9221"
            ],
            [
             1,
             "#276419"
            ]
           ],
           "sequential": [
            [
             0,
             "#0d0887"
            ],
            [
             0.1111111111111111,
             "#46039f"
            ],
            [
             0.2222222222222222,
             "#7201a8"
            ],
            [
             0.3333333333333333,
             "#9c179e"
            ],
            [
             0.4444444444444444,
             "#bd3786"
            ],
            [
             0.5555555555555556,
             "#d8576b"
            ],
            [
             0.6666666666666666,
             "#ed7953"
            ],
            [
             0.7777777777777778,
             "#fb9f3a"
            ],
            [
             0.8888888888888888,
             "#fdca26"
            ],
            [
             1,
             "#f0f921"
            ]
           ],
           "sequentialminus": [
            [
             0,
             "#0d0887"
            ],
            [
             0.1111111111111111,
             "#46039f"
            ],
            [
             0.2222222222222222,
             "#7201a8"
            ],
            [
             0.3333333333333333,
             "#9c179e"
            ],
            [
             0.4444444444444444,
             "#bd3786"
            ],
            [
             0.5555555555555556,
             "#d8576b"
            ],
            [
             0.6666666666666666,
             "#ed7953"
            ],
            [
             0.7777777777777778,
             "#fb9f3a"
            ],
            [
             0.8888888888888888,
             "#fdca26"
            ],
            [
             1,
             "#f0f921"
            ]
           ]
          },
          "colorway": [
           "#636efa",
           "#EF553B",
           "#00cc96",
           "#ab63fa",
           "#FFA15A",
           "#19d3f3",
           "#FF6692",
           "#B6E880",
           "#FF97FF",
           "#FECB52"
          ],
          "font": {
           "color": "#2a3f5f"
          },
          "geo": {
           "bgcolor": "white",
           "lakecolor": "white",
           "landcolor": "#E5ECF6",
           "showlakes": true,
           "showland": true,
           "subunitcolor": "white"
          },
          "hoverlabel": {
           "align": "left"
          },
          "hovermode": "closest",
          "mapbox": {
           "style": "light"
          },
          "paper_bgcolor": "white",
          "plot_bgcolor": "#E5ECF6",
          "polar": {
           "angularaxis": {
            "gridcolor": "white",
            "linecolor": "white",
            "ticks": ""
           },
           "bgcolor": "#E5ECF6",
           "radialaxis": {
            "gridcolor": "white",
            "linecolor": "white",
            "ticks": ""
           }
          },
          "scene": {
           "xaxis": {
            "backgroundcolor": "#E5ECF6",
            "gridcolor": "white",
            "gridwidth": 2,
            "linecolor": "white",
            "showbackground": true,
            "ticks": "",
            "zerolinecolor": "white"
           },
           "yaxis": {
            "backgroundcolor": "#E5ECF6",
            "gridcolor": "white",
            "gridwidth": 2,
            "linecolor": "white",
            "showbackground": true,
            "ticks": "",
            "zerolinecolor": "white"
           },
           "zaxis": {
            "backgroundcolor": "#E5ECF6",
            "gridcolor": "white",
            "gridwidth": 2,
            "linecolor": "white",
            "showbackground": true,
            "ticks": "",
            "zerolinecolor": "white"
           }
          },
          "shapedefaults": {
           "line": {
            "color": "#2a3f5f"
           }
          },
          "ternary": {
           "aaxis": {
            "gridcolor": "white",
            "linecolor": "white",
            "ticks": ""
           },
           "baxis": {
            "gridcolor": "white",
            "linecolor": "white",
            "ticks": ""
           },
           "bgcolor": "#E5ECF6",
           "caxis": {
            "gridcolor": "white",
            "linecolor": "white",
            "ticks": ""
           }
          },
          "title": {
           "x": 0.05
          },
          "xaxis": {
           "automargin": true,
           "gridcolor": "white",
           "linecolor": "white",
           "ticks": "",
           "title": {
            "standoff": 15
           },
           "zerolinecolor": "white",
           "zerolinewidth": 2
          },
          "yaxis": {
           "automargin": true,
           "gridcolor": "white",
           "linecolor": "white",
           "ticks": "",
           "title": {
            "standoff": 15
           },
           "zerolinecolor": "white",
           "zerolinewidth": 2
          }
         }
        }
       }
      }
     },
     "metadata": {},
     "output_type": "display_data"
    }
   ],
   "source": [
    "# Aggregare i dati per calcolare il salario medio per ogni localizzazione dell'azienda\n",
    "df_mean_salary_by_location = df.groupby('company_location')['salary_in_usd'].mean().reset_index()\n",
    "# Creare una mappa interattiva utilizzando Plotly Express\n",
    "fig_mappa = px.choropleth(df_mean_salary_by_location,\n",
    "                          locations='company_location',\n",
    "                          locationmode='country names',\n",
    "                          color='salary_in_usd',\n",
    "                          color_continuous_scale=px.colors.sequential.YlGn,\n",
    "                          labels={'salary_in_usd': 'Averange Salary (USD)'})\n",
    "fig_mappa.show()"
   ]
  },
  {
   "cell_type": "markdown",
   "metadata": {},
   "source": [
    "### question 2, chart 2"
   ]
  },
  {
   "cell_type": "code",
   "execution_count": 8,
   "metadata": {},
   "outputs": [
    {
     "data": {
      "application/vnd.plotly.v1+json": {
       "config": {
        "plotlyServerURL": "https://plot.ly"
       },
       "data": [
        {
         "hoverinfo": "skip",
         "line": {
          "color": "blue"
         },
         "mode": "lines+markers",
         "name": "Large",
         "type": "scatter",
         "x": [
          2020,
          2021,
          2022,
          2023
         ],
         "y": [
          101000.37142857142,
          107165.70078740157,
          121281.95939086295,
          133379.4
         ]
        },
        {
         "fill": "toself",
         "fillcolor": "blue",
         "hoverinfo": "skip",
         "line": {
          "color": "rgba(255,255,255,0)"
         },
         "opacity": 0.5,
         "showlegend": false,
         "type": "scatter",
         "x": [
          2020,
          2021,
          2022,
          2023,
          2023,
          2022,
          2021,
          2020
         ],
         "y": [
          109394.58599947699,
          114381.4081007971,
          128108.00201658296,
          142291.24434722879,
          124467.55565277119,
          114455.91676514293,
          99949.99347400604,
          92606.15685766586
         ]
        },
        {
         "hoverinfo": "skip",
         "line": {
          "color": "green"
         },
         "mode": "lines+markers",
         "name": "Medium",
         "type": "scatter",
         "x": [
          2020,
          2021,
          2022,
          2023
         ],
         "y": [
          106626.4375,
          74463.03571428571,
          137132.46496815287,
          150867.20203836932
         ]
        },
        {
         "fill": "toself",
         "fillcolor": "green",
         "hoverinfo": "skip",
         "line": {
          "color": "rgba(255,255,255,0)"
         },
         "opacity": 0.5,
         "showlegend": false,
         "type": "scatter",
         "x": [
          2020,
          2021,
          2022,
          2023,
          2023,
          2022,
          2021,
          2020
         ],
         "y": [
          117239.87308501637,
          79604.93754595582,
          142754.00971856524,
          156743.77623985749,
          144990.62783688115,
          131510.9202177405,
          69321.1338826156,
          96013.00191498363
         ]
        },
        {
         "hoverinfo": "skip",
         "line": {
          "color": "red"
         },
         "mode": "lines+markers",
         "name": "Small",
         "type": "scatter",
         "x": [
          2020,
          2021,
          2022,
          2023
         ],
         "y": [
          70958.56,
          82129.44680851063,
          78050.85185185185,
          78579.77272727272
         ]
        },
        {
         "fill": "toself",
         "fillcolor": "red",
         "hoverinfo": "skip",
         "line": {
          "color": "rgba(255,255,255,0)"
         },
         "opacity": 0.5,
         "showlegend": false,
         "type": "scatter",
         "x": [
          2020,
          2021,
          2022,
          2023,
          2023,
          2022,
          2021,
          2020
         ],
         "y": [
          76839.35277989513,
          89142.13097869727,
          84023.60853770937,
          84096.8409525888,
          73062.70450195664,
          72078.09516599434,
          75116.762638324,
          65077.76722010487
         ]
        }
       ],
       "layout": {
        "legend": {
         "font": {
          "size": 10
         },
         "title": {
          "font": {
           "size": 12
          },
          "text": "Company Size"
         },
         "x": 0.01,
         "xanchor": "left",
         "y": 0.99,
         "yanchor": "top"
        },
        "plot_bgcolor": "#f4f4f4",
        "template": {
         "data": {
          "bar": [
           {
            "error_x": {
             "color": "#2a3f5f"
            },
            "error_y": {
             "color": "#2a3f5f"
            },
            "marker": {
             "line": {
              "color": "#E5ECF6",
              "width": 0.5
             },
             "pattern": {
              "fillmode": "overlay",
              "size": 10,
              "solidity": 0.2
             }
            },
            "type": "bar"
           }
          ],
          "barpolar": [
           {
            "marker": {
             "line": {
              "color": "#E5ECF6",
              "width": 0.5
             },
             "pattern": {
              "fillmode": "overlay",
              "size": 10,
              "solidity": 0.2
             }
            },
            "type": "barpolar"
           }
          ],
          "carpet": [
           {
            "aaxis": {
             "endlinecolor": "#2a3f5f",
             "gridcolor": "white",
             "linecolor": "white",
             "minorgridcolor": "white",
             "startlinecolor": "#2a3f5f"
            },
            "baxis": {
             "endlinecolor": "#2a3f5f",
             "gridcolor": "white",
             "linecolor": "white",
             "minorgridcolor": "white",
             "startlinecolor": "#2a3f5f"
            },
            "type": "carpet"
           }
          ],
          "choropleth": [
           {
            "colorbar": {
             "outlinewidth": 0,
             "ticks": ""
            },
            "type": "choropleth"
           }
          ],
          "contour": [
           {
            "colorbar": {
             "outlinewidth": 0,
             "ticks": ""
            },
            "colorscale": [
             [
              0,
              "#0d0887"
             ],
             [
              0.1111111111111111,
              "#46039f"
             ],
             [
              0.2222222222222222,
              "#7201a8"
             ],
             [
              0.3333333333333333,
              "#9c179e"
             ],
             [
              0.4444444444444444,
              "#bd3786"
             ],
             [
              0.5555555555555556,
              "#d8576b"
             ],
             [
              0.6666666666666666,
              "#ed7953"
             ],
             [
              0.7777777777777778,
              "#fb9f3a"
             ],
             [
              0.8888888888888888,
              "#fdca26"
             ],
             [
              1,
              "#f0f921"
             ]
            ],
            "type": "contour"
           }
          ],
          "contourcarpet": [
           {
            "colorbar": {
             "outlinewidth": 0,
             "ticks": ""
            },
            "type": "contourcarpet"
           }
          ],
          "heatmap": [
           {
            "colorbar": {
             "outlinewidth": 0,
             "ticks": ""
            },
            "colorscale": [
             [
              0,
              "#0d0887"
             ],
             [
              0.1111111111111111,
              "#46039f"
             ],
             [
              0.2222222222222222,
              "#7201a8"
             ],
             [
              0.3333333333333333,
              "#9c179e"
             ],
             [
              0.4444444444444444,
              "#bd3786"
             ],
             [
              0.5555555555555556,
              "#d8576b"
             ],
             [
              0.6666666666666666,
              "#ed7953"
             ],
             [
              0.7777777777777778,
              "#fb9f3a"
             ],
             [
              0.8888888888888888,
              "#fdca26"
             ],
             [
              1,
              "#f0f921"
             ]
            ],
            "type": "heatmap"
           }
          ],
          "heatmapgl": [
           {
            "colorbar": {
             "outlinewidth": 0,
             "ticks": ""
            },
            "colorscale": [
             [
              0,
              "#0d0887"
             ],
             [
              0.1111111111111111,
              "#46039f"
             ],
             [
              0.2222222222222222,
              "#7201a8"
             ],
             [
              0.3333333333333333,
              "#9c179e"
             ],
             [
              0.4444444444444444,
              "#bd3786"
             ],
             [
              0.5555555555555556,
              "#d8576b"
             ],
             [
              0.6666666666666666,
              "#ed7953"
             ],
             [
              0.7777777777777778,
              "#fb9f3a"
             ],
             [
              0.8888888888888888,
              "#fdca26"
             ],
             [
              1,
              "#f0f921"
             ]
            ],
            "type": "heatmapgl"
           }
          ],
          "histogram": [
           {
            "marker": {
             "pattern": {
              "fillmode": "overlay",
              "size": 10,
              "solidity": 0.2
             }
            },
            "type": "histogram"
           }
          ],
          "histogram2d": [
           {
            "colorbar": {
             "outlinewidth": 0,
             "ticks": ""
            },
            "colorscale": [
             [
              0,
              "#0d0887"
             ],
             [
              0.1111111111111111,
              "#46039f"
             ],
             [
              0.2222222222222222,
              "#7201a8"
             ],
             [
              0.3333333333333333,
              "#9c179e"
             ],
             [
              0.4444444444444444,
              "#bd3786"
             ],
             [
              0.5555555555555556,
              "#d8576b"
             ],
             [
              0.6666666666666666,
              "#ed7953"
             ],
             [
              0.7777777777777778,
              "#fb9f3a"
             ],
             [
              0.8888888888888888,
              "#fdca26"
             ],
             [
              1,
              "#f0f921"
             ]
            ],
            "type": "histogram2d"
           }
          ],
          "histogram2dcontour": [
           {
            "colorbar": {
             "outlinewidth": 0,
             "ticks": ""
            },
            "colorscale": [
             [
              0,
              "#0d0887"
             ],
             [
              0.1111111111111111,
              "#46039f"
             ],
             [
              0.2222222222222222,
              "#7201a8"
             ],
             [
              0.3333333333333333,
              "#9c179e"
             ],
             [
              0.4444444444444444,
              "#bd3786"
             ],
             [
              0.5555555555555556,
              "#d8576b"
             ],
             [
              0.6666666666666666,
              "#ed7953"
             ],
             [
              0.7777777777777778,
              "#fb9f3a"
             ],
             [
              0.8888888888888888,
              "#fdca26"
             ],
             [
              1,
              "#f0f921"
             ]
            ],
            "type": "histogram2dcontour"
           }
          ],
          "mesh3d": [
           {
            "colorbar": {
             "outlinewidth": 0,
             "ticks": ""
            },
            "type": "mesh3d"
           }
          ],
          "parcoords": [
           {
            "line": {
             "colorbar": {
              "outlinewidth": 0,
              "ticks": ""
             }
            },
            "type": "parcoords"
           }
          ],
          "pie": [
           {
            "automargin": true,
            "type": "pie"
           }
          ],
          "scatter": [
           {
            "fillpattern": {
             "fillmode": "overlay",
             "size": 10,
             "solidity": 0.2
            },
            "type": "scatter"
           }
          ],
          "scatter3d": [
           {
            "line": {
             "colorbar": {
              "outlinewidth": 0,
              "ticks": ""
             }
            },
            "marker": {
             "colorbar": {
              "outlinewidth": 0,
              "ticks": ""
             }
            },
            "type": "scatter3d"
           }
          ],
          "scattercarpet": [
           {
            "marker": {
             "colorbar": {
              "outlinewidth": 0,
              "ticks": ""
             }
            },
            "type": "scattercarpet"
           }
          ],
          "scattergeo": [
           {
            "marker": {
             "colorbar": {
              "outlinewidth": 0,
              "ticks": ""
             }
            },
            "type": "scattergeo"
           }
          ],
          "scattergl": [
           {
            "marker": {
             "colorbar": {
              "outlinewidth": 0,
              "ticks": ""
             }
            },
            "type": "scattergl"
           }
          ],
          "scattermapbox": [
           {
            "marker": {
             "colorbar": {
              "outlinewidth": 0,
              "ticks": ""
             }
            },
            "type": "scattermapbox"
           }
          ],
          "scatterpolar": [
           {
            "marker": {
             "colorbar": {
              "outlinewidth": 0,
              "ticks": ""
             }
            },
            "type": "scatterpolar"
           }
          ],
          "scatterpolargl": [
           {
            "marker": {
             "colorbar": {
              "outlinewidth": 0,
              "ticks": ""
             }
            },
            "type": "scatterpolargl"
           }
          ],
          "scatterternary": [
           {
            "marker": {
             "colorbar": {
              "outlinewidth": 0,
              "ticks": ""
             }
            },
            "type": "scatterternary"
           }
          ],
          "surface": [
           {
            "colorbar": {
             "outlinewidth": 0,
             "ticks": ""
            },
            "colorscale": [
             [
              0,
              "#0d0887"
             ],
             [
              0.1111111111111111,
              "#46039f"
             ],
             [
              0.2222222222222222,
              "#7201a8"
             ],
             [
              0.3333333333333333,
              "#9c179e"
             ],
             [
              0.4444444444444444,
              "#bd3786"
             ],
             [
              0.5555555555555556,
              "#d8576b"
             ],
             [
              0.6666666666666666,
              "#ed7953"
             ],
             [
              0.7777777777777778,
              "#fb9f3a"
             ],
             [
              0.8888888888888888,
              "#fdca26"
             ],
             [
              1,
              "#f0f921"
             ]
            ],
            "type": "surface"
           }
          ],
          "table": [
           {
            "cells": {
             "fill": {
              "color": "#EBF0F8"
             },
             "line": {
              "color": "white"
             }
            },
            "header": {
             "fill": {
              "color": "#C8D4E3"
             },
             "line": {
              "color": "white"
             }
            },
            "type": "table"
           }
          ]
         },
         "layout": {
          "annotationdefaults": {
           "arrowcolor": "#2a3f5f",
           "arrowhead": 0,
           "arrowwidth": 1
          },
          "autotypenumbers": "strict",
          "coloraxis": {
           "colorbar": {
            "outlinewidth": 0,
            "ticks": ""
           }
          },
          "colorscale": {
           "diverging": [
            [
             0,
             "#8e0152"
            ],
            [
             0.1,
             "#c51b7d"
            ],
            [
             0.2,
             "#de77ae"
            ],
            [
             0.3,
             "#f1b6da"
            ],
            [
             0.4,
             "#fde0ef"
            ],
            [
             0.5,
             "#f7f7f7"
            ],
            [
             0.6,
             "#e6f5d0"
            ],
            [
             0.7,
             "#b8e186"
            ],
            [
             0.8,
             "#7fbc41"
            ],
            [
             0.9,
             "#4d9221"
            ],
            [
             1,
             "#276419"
            ]
           ],
           "sequential": [
            [
             0,
             "#0d0887"
            ],
            [
             0.1111111111111111,
             "#46039f"
            ],
            [
             0.2222222222222222,
             "#7201a8"
            ],
            [
             0.3333333333333333,
             "#9c179e"
            ],
            [
             0.4444444444444444,
             "#bd3786"
            ],
            [
             0.5555555555555556,
             "#d8576b"
            ],
            [
             0.6666666666666666,
             "#ed7953"
            ],
            [
             0.7777777777777778,
             "#fb9f3a"
            ],
            [
             0.8888888888888888,
             "#fdca26"
            ],
            [
             1,
             "#f0f921"
            ]
           ],
           "sequentialminus": [
            [
             0,
             "#0d0887"
            ],
            [
             0.1111111111111111,
             "#46039f"
            ],
            [
             0.2222222222222222,
             "#7201a8"
            ],
            [
             0.3333333333333333,
             "#9c179e"
            ],
            [
             0.4444444444444444,
             "#bd3786"
            ],
            [
             0.5555555555555556,
             "#d8576b"
            ],
            [
             0.6666666666666666,
             "#ed7953"
            ],
            [
             0.7777777777777778,
             "#fb9f3a"
            ],
            [
             0.8888888888888888,
             "#fdca26"
            ],
            [
             1,
             "#f0f921"
            ]
           ]
          },
          "colorway": [
           "#636efa",
           "#EF553B",
           "#00cc96",
           "#ab63fa",
           "#FFA15A",
           "#19d3f3",
           "#FF6692",
           "#B6E880",
           "#FF97FF",
           "#FECB52"
          ],
          "font": {
           "color": "#2a3f5f"
          },
          "geo": {
           "bgcolor": "white",
           "lakecolor": "white",
           "landcolor": "#E5ECF6",
           "showlakes": true,
           "showland": true,
           "subunitcolor": "white"
          },
          "hoverlabel": {
           "align": "left"
          },
          "hovermode": "closest",
          "mapbox": {
           "style": "light"
          },
          "paper_bgcolor": "white",
          "plot_bgcolor": "#E5ECF6",
          "polar": {
           "angularaxis": {
            "gridcolor": "white",
            "linecolor": "white",
            "ticks": ""
           },
           "bgcolor": "#E5ECF6",
           "radialaxis": {
            "gridcolor": "white",
            "linecolor": "white",
            "ticks": ""
           }
          },
          "scene": {
           "xaxis": {
            "backgroundcolor": "#E5ECF6",
            "gridcolor": "white",
            "gridwidth": 2,
            "linecolor": "white",
            "showbackground": true,
            "ticks": "",
            "zerolinecolor": "white"
           },
           "yaxis": {
            "backgroundcolor": "#E5ECF6",
            "gridcolor": "white",
            "gridwidth": 2,
            "linecolor": "white",
            "showbackground": true,
            "ticks": "",
            "zerolinecolor": "white"
           },
           "zaxis": {
            "backgroundcolor": "#E5ECF6",
            "gridcolor": "white",
            "gridwidth": 2,
            "linecolor": "white",
            "showbackground": true,
            "ticks": "",
            "zerolinecolor": "white"
           }
          },
          "shapedefaults": {
           "line": {
            "color": "#2a3f5f"
           }
          },
          "ternary": {
           "aaxis": {
            "gridcolor": "white",
            "linecolor": "white",
            "ticks": ""
           },
           "baxis": {
            "gridcolor": "white",
            "linecolor": "white",
            "ticks": ""
           },
           "bgcolor": "#E5ECF6",
           "caxis": {
            "gridcolor": "white",
            "linecolor": "white",
            "ticks": ""
           }
          },
          "title": {
           "x": 0.05
          },
          "xaxis": {
           "automargin": true,
           "gridcolor": "white",
           "linecolor": "white",
           "ticks": "",
           "title": {
            "standoff": 15
           },
           "zerolinecolor": "white",
           "zerolinewidth": 2
          },
          "yaxis": {
           "automargin": true,
           "gridcolor": "white",
           "linecolor": "white",
           "ticks": "",
           "title": {
            "standoff": 15
           },
           "zerolinecolor": "white",
           "zerolinewidth": 2
          }
         }
        },
        "title": {
         "text": "Average Salary Trend Over Years by Company Size with Reduced Variance"
        },
        "xaxis": {
         "showgrid": false,
         "tickmode": "array",
         "ticktext": [
          "2020",
          "2021",
          "2022",
          "2023"
         ],
         "tickvals": [
          2020,
          2021,
          2022,
          2023
         ],
         "title": {
          "text": "Year"
         }
        },
        "yaxis": {
         "showgrid": false,
         "title": {
          "text": "Average Salary (USD)"
         }
        }
       }
      }
     },
     "metadata": {},
     "output_type": "display_data"
    }
   ],
   "source": [
    "# Ensure 'work_year' is an integer if it's not already\n",
    "df['work_year'] = df['work_year'].astype(int)\n",
    "\n",
    "# Calculate mean and standard deviation of salaries by year and company size\n",
    "salary_stats_by_year_size = df.groupby(['work_year', 'company_size'])['salary_in_usd'].agg(['mean', 'std']).reset_index()\n",
    "\n",
    "# Set a factor to reduce the variance indication (e.g., 0.10 for 10% of the standard deviation)\n",
    "factor = 0.10\n",
    "\n",
    "# Adjust the upper and lower bounds to reduce the shaded area\n",
    "salary_stats_by_year_size['upper'] = salary_stats_by_year_size['mean'] + (salary_stats_by_year_size['std'] * factor)\n",
    "salary_stats_by_year_size['lower'] = salary_stats_by_year_size['mean'] - (salary_stats_by_year_size['std'] * factor)\n",
    "\n",
    "# Preparing data for plotting with reduced variance\n",
    "salary_stats_by_year_size.head()\n",
    "\n",
    "# Set colors for different company sizes for consistency in both plots\n",
    "colors = ['blue', 'green', 'red']\n",
    "company_sizes = salary_stats_by_year_size['company_size'].unique()\n",
    "\n",
    "# Re-initializing the figure to apply the adjusted shaded areas\n",
    "fig_adjusted_variance = go.Figure()\n",
    "\n",
    "# Add lines and adjusted shaded areas for each company size with visibility ensured\n",
    "for i, size in enumerate(company_sizes):\n",
    "    df_filtered = salary_stats_by_year_size[salary_stats_by_year_size['company_size'] == size]\n",
    "    # Add the main line for mean salary\n",
    "    fig_adjusted_variance.add_trace(go.Scatter(x=df_filtered['work_year'], y=df_filtered['mean'], mode='lines+markers',\n",
    "                    name=size, line=dict(color=colors[i % len(colors)]),\n",
    "                    hoverinfo='skip'))\n",
    "    \n",
    "    # Ensure the shaded area is visible and add it around the line\n",
    "    fig_adjusted_variance.add_trace(go.Scatter(x=pd.concat([df_filtered['work_year'], df_filtered['work_year'][::-1]]),\n",
    "                    y=pd.concat([df_filtered['upper'], df_filtered['lower'][::-1]]),\n",
    "                    fill='toself', fillcolor=colors[i % len(colors)], opacity=0.5,\n",
    "                    line=dict(color='rgba(255,255,255,0)'), showlegend=False,\n",
    "                    hoverinfo='skip'))\n",
    "\n",
    "# Update the layout with customizations for the adjusted variance plot with integer years only\n",
    "fig_adjusted_variance.update_layout(\n",
    "    xaxis=dict(\n",
    "        tickmode='array',\n",
    "        tickvals=salary_stats_by_year_size['work_year'].unique(),\n",
    "        ticktext=[str(year) for year in salary_stats_by_year_size['work_year'].unique()]\n",
    "    ),\n",
    "    title=\"Average Salary Trend Over Years by Company Size with Reduced Variance\",\n",
    "    xaxis_title=\"Year\",\n",
    "    yaxis_title=\"Average Salary (USD)\",\n",
    "    plot_bgcolor=\"#f4f4f4\",  # Set background color\n",
    "    legend_title_text='Company Size',\n",
    "    legend=dict(\n",
    "        title_font_size=12,\n",
    "        font_size=10,\n",
    "        yanchor=\"top\",\n",
    "        y=0.99,\n",
    "        xanchor=\"left\",\n",
    "        x=0.01\n",
    "    )\n",
    ")\n",
    "\n",
    "# Remove grid lines for a cleaner look in the adjusted variance plot\n",
    "fig_adjusted_variance.update_xaxes(showgrid=False)\n",
    "fig_adjusted_variance.update_yaxes(showgrid=False)\n",
    "\n",
    "\n",
    "# Display the chart with reduced variance indication\n",
    "fig_adjusted_variance.show()\n"
   ]
  },
  {
   "cell_type": "markdown",
   "metadata": {},
   "source": [
    "### question 3, chart 1"
   ]
  },
  {
   "cell_type": "code",
   "execution_count": 9,
   "metadata": {},
   "outputs": [],
   "source": [
    "# Prepare data for the pie chart\n",
    "remote_category_counts = df['remote_ratio'].value_counts().reset_index()\n",
    "remote_category_counts.columns = ['remote_ratio', 'count']\n",
    "\n",
    "# Create the pie chart for remote work category distribution\n",
    "fig_pie = px.pie(remote_category_counts, names='remote_ratio', values='count',\n",
    "                 title=\"Proportion of Work Modalities\",\n",
    "                 color_discrete_sequence=px.colors.sequential.RdBu,\n",
    "                category_orders={'remote_ratio': ['Full-Remote', 'On-Site', 'Half-Remote']})"
   ]
  },
  {
   "cell_type": "markdown",
   "metadata": {},
   "source": [
    "### question 3, chart 2"
   ]
  },
  {
   "cell_type": "code",
   "execution_count": 10,
   "metadata": {},
   "outputs": [],
   "source": [
    "fig_remote_ratio_salary = px.box(df, x='experience_level', y='salary_in_usd', color='remote_ratio',\n",
    "                                 labels={'remote_ratio': 'Remote Ratio (%)',\n",
    "                                         'salary_in_usd': 'Salario (USD)'}, template=\"xgridoff\",\n",
    "                                category_orders={'experience_level': ['Entry-level', 'Mid-level', 'Senior', 'Executive']},\n",
    "                                color_discrete_sequence=px.colors.sequential.RdBu)"
   ]
  },
  {
   "cell_type": "markdown",
   "metadata": {},
   "source": [
    "## HTML app (and question 1, chart 4)"
   ]
  },
  {
   "cell_type": "code",
   "execution_count": 11,
   "metadata": {},
   "outputs": [
    {
     "data": {
      "text/html": [
       "\n",
       "        <iframe\n",
       "            width=\"100%\"\n",
       "            height=\"650\"\n",
       "            src=\"http://127.0.0.1:8050/\"\n",
       "            frameborder=\"0\"\n",
       "            allowfullscreen\n",
       "            \n",
       "        ></iframe>\n",
       "        "
      ],
      "text/plain": [
       "<IPython.lib.display.IFrame at 0x1f67407db10>"
      ]
     },
     "metadata": {},
     "output_type": "display_data"
    }
   ],
   "source": [
    "external_stylesheets = [\n",
    "    {\n",
    "        'href': 'https://fonts.googleapis.com/css2?family=Bungee+Spice&display=swap',\n",
    "        'rel': 'stylesheet'\n",
    "    },\n",
    "    {\n",
    "        'href': 'https://fonts.googleapis.com/css2?family=Lilita+One&display=swap',\n",
    "        'rel': 'stylesheet'\n",
    "    },\n",
    "    {\n",
    "        'href': 'https://fonts.googleapis.com/css2?family=Roboto&display=swap',\n",
    "        'rel': 'stylesheet'\n",
    "    },\n",
    "    'https://stackpath.bootstrapcdn.com/bootstrap/4.5.2/css/bootstrap.min.css',\n",
    "    'assets/bootstrap.min.css'\n",
    "]\n",
    "\n",
    "app = dash.Dash(external_stylesheets=external_stylesheets, suppress_callback_exceptions=True)\n",
    "\n",
    "# question 1, chart 2b (i must stay here!!)\n",
    "\n",
    "@app.callback(\n",
    "    Output(\"grafico_esperienza\", \"figure\"),\n",
    "    Input(\"filtra_expchart\", \"value\"),\n",
    ")\n",
    "def update_experience_chart(filtra_expchart):\n",
    "    filtered = df.loc[df['job_title'].isin([filtra_expchart])]\n",
    "    return px.box(filtered, x='experience_level', y='salary_in_usd',\n",
    "                  color='experience_level',\n",
    "                  labels={'salary_in_usd': 'Salario (USD)', 'experience_level': 'Livello di Esperienza'},\n",
    "                  title='Distribuzione dei Salari per Livello di Esperienza', height = 600, template=\"plotly_dark\")\n",
    "\n",
    "\n",
    "# the style arguments for the sidebar. We use position:fixed and a fixed width\n",
    "SIDEBAR_STYLE = {\n",
    "    \"position\": \"fixed\",\n",
    "    \"top\": 0,\n",
    "    \"left\": 0,\n",
    "    \"bottom\": 0,\n",
    "    \"width\": \"16rem\",\n",
    "    \"padding\": \"2rem 1rem\",\n",
    "    \"background-color\": \"#f8f9fa\",\n",
    "}\n",
    "\n",
    "# the styles for the main content position it to the right of the sidebar and\n",
    "# add some padding.\n",
    "CONTENT_STYLE = {\n",
    "    \"margin-left\": \"18rem\",\n",
    "    \"margin-right\": \"2rem\",\n",
    "    \"padding\": \"2rem 1rem\",\n",
    "}\n",
    "\n",
    "sidebar = html.Div(\n",
    "    [\n",
    "        html.H3(\"Working with Big Data\", className=\"display-6\"),\n",
    "        html.Hr(),\n",
    "        html.P(\n",
    "            \"Our 3 main questions\", className=\"lead\"\n",
    "        ),\n",
    "        dbc.Nav(\n",
    "            [\n",
    "                dbc.NavLink(\"Which job should i choose?\", href=\"/\", active=\"exact\"),\n",
    "                dbc.NavLink(\"Which country or company is more convenient?\", href=\"/page-1\", active=\"exact\"),\n",
    "                dbc.NavLink(\"What about Smart working...?\", href=\"/page-2\", active=\"exact\"),\n",
    "            ],\n",
    "            vertical=True,\n",
    "            pills=True,\n",
    "        ),\n",
    "    ],\n",
    "    style=SIDEBAR_STYLE,\n",
    ")\n",
    "\n",
    "content = html.Div(id=\"page-content\", style=CONTENT_STYLE)\n",
    "\n",
    "app.layout = html.Div([\n",
    "    dcc.Location(id=\"url\"),\n",
    "    sidebar,\n",
    "    content,\n",
    "    html.Footer(\n",
    "        children=[\n",
    "            \"Created by Checchin, Di Salvia, Zamar\"\n",
    "        ],\n",
    "        style={\n",
    "            'position': 'fixed',\n",
    "            'bottom': 0,\n",
    "            'width': '100%',\n",
    "            'background-color': '#f8f9fa',\n",
    "            'padding': '10px',\n",
    "            'text-align': 'center',\n",
    "            'font-size': '14px',\n",
    "            'color': '#6c757d'\n",
    "        }\n",
    "    )], style={'textAlign': 'center'}\n",
    ")\n",
    "\n",
    "\n",
    "@app.callback(Output(\"page-content\", \"children\"), [Input(\"url\", \"pathname\")])\n",
    "def render_page_content(pathname):\n",
    "    # domanda 1, main\n",
    "    if pathname == \"/\":\n",
    "        return dbc.Container([\n",
    "            \n",
    "            # intro graphs + title\n",
    "            html.Div([\n",
    "                html.Div([\n",
    "                    html.H1('Why working with Big Data?',\n",
    "                        className='mb-3',\n",
    "                        style={'textAlign': 'center', 'marginTop': '50px', 'font-weight': 'bold', 'font-size': '2.5em'}\n",
    "                    )\n",
    "                ]),\n",
    "                html.Div([\n",
    "                    html.H6('Most of the people work with Big Data as a...',\n",
    "                            style={'textAlign': 'center', 'marginTop': '10px', 'font-size': '1em'}\n",
    "                           ),\n",
    "                dcc.Graph(figure=word_fig)\n",
    "                ]),\n",
    "            ]),\n",
    "            \n",
    "            html.Hr(style={'border-top': '4px solid #ccc','color': 'black'}),\n",
    "            \n",
    "            # grafico più pagati\n",
    "            html.Div([\n",
    "                html.Div([\n",
    "                    html.H2('Which job is more convenient?',\n",
    "                            style={'textAlign': 'center', 'marginTop': '100px', 'font-size': '2em'}),\n",
    "                    html.H6('(in terms of dollar $$$)', style={'textAlign': 'center' , 'marginTop': '10px', 'font-size': '1em'})\n",
    "                ]),\n",
    "                html.Div([\n",
    "                    html.Div(dcc.Graph(figure=fig_mean_salary_job_title_sorted), \n",
    "                             style={'marginTop': '40px', 'vertical-align': 'top'}),\n",
    "                ]),\n",
    "            ]),\n",
    "            html.Hr(),\n",
    "            \n",
    "            # grafico a bolle\n",
    "            html.Div([\n",
    "                html.Div([\n",
    "                     html.H2('Distribution of most remunerative jobs in Big Data',\n",
    "                             style={'textAlign': 'center', 'marginTop': '100px', 'font-size': '2em'})\n",
    "                ]),\n",
    "                html.Div([\n",
    "                    dcc.Graph(figure=fig_bolle)\n",
    "                ], style={'marginTop': '40px', 'vertical-align': 'top'}),\n",
    "            ]),\n",
    "            html.Hr(),\n",
    "            \n",
    "            # grafico lavori\n",
    "            html.Div([\n",
    "                html.Div([\n",
    "                     html.H2('So... Whitch job you would like to do?',\n",
    "                             style={'textAlign': 'center', 'marginTop': '100px', 'font-size': '2em'})\n",
    "                ]),\n",
    "                html.Div([\n",
    "                    dcc.Dropdown(\n",
    "                        id=\"filtra_expchart\",\n",
    "                        options=[{\"label\": i, \"value\": i} for i in df.job_title.unique()],\n",
    "                        value=df['job_title'][1],\n",
    "                        clearable=False,\n",
    "                        style={\n",
    "                            'color': 'blue',\n",
    "                            'background-color': 'white',\n",
    "                            'border-color': '#343a40',\n",
    "                            'border-width': '3px'\n",
    "                        }\n",
    "                    ),\n",
    "                    dcc.Graph(id=\"grafico_esperienza\"),\n",
    "                ], style={'marginTop': '40px', 'vertical-align': 'top'} ),\n",
    "            ], style={'display': 'inline-block', 'vertical-align': 'top'}),\n",
    "            html.Hr(style={'border-top': '4px solid #ccc','color': 'black'}),\n",
    "            html.Div([\n",
    "# CONSIDERAZINI FINALI 1\n",
    "                html.H5('From this brief introduction we can look at how owr data are distribuited in the dataset and make an idea about the most paied jobs in base of the experience, and we can notice that some level of experience are missing for some jobs',\n",
    "                             style={'textAlign': 'center', 'marginTop': '150px', 'font-size': '1.5em'})\n",
    "            ])\n",
    "        ], id=\"main-container\")\n",
    "    \n",
    "    # domanda 2\n",
    "    elif pathname == \"/page-1\":\n",
    "        return dbc.Container([\n",
    "            \n",
    "            #title\n",
    "            html.Div([\n",
    "                html.H1('Which country fits my interests? ($$$)',\n",
    "                        className='mb-3', style={'textAlign': 'center', 'marginTop': '100px', 'font-size': '2.5em', 'font-weight': 'bold'})\n",
    "            ], style={'height': '100px'}),\n",
    "            \n",
    "            #mappa\n",
    "            html.Div([\n",
    "                html.Div([\n",
    "                    html.H2('Averange Salaries in the world',\n",
    "                            style={'textAlign': 'center', 'marginTop': '20px', 'font-size': '2em'}\n",
    "                           )\n",
    "                ], style={'height': '50px'}),\n",
    "                dcc.Graph(figure=fig_mappa)\n",
    "            ]),\n",
    "            html.Hr(),\n",
    "            \n",
    "            #aziende\n",
    "            html.Div([\n",
    "                html.Div([\n",
    "                    html.H2('Andament of Salaries by size of Companies',\n",
    "                            style={'textAlign': 'center', 'marginTop': '20px', 'font-size': '2em'}\n",
    "                           )\n",
    "                ], style={'height': '50px'}),\n",
    "                dcc.Graph(figure=fig_adjusted_variance)\n",
    "            ], style={'marginTop': '100px'}),\n",
    "            html.Hr(style={'border-top': '4px solid #ccc','color': 'black'}),\n",
    "            html.Div([\n",
    "# CONSIDERAZINI FINALI 2\n",
    "                html.H5('From the first chart we can notice that israel is paying the most, also Puerto Rico, USA, Russia, Canada and New Zeland. From the second we can see that the Medium Size Company are paying their employers much more than in 2021, Small Company are decresing salaries from 2021, and the Lrge ones are constantly increasing',\n",
    "                             style={'textAlign': 'center', 'marginTop': '150px', 'font-size': '1.5em'})\n",
    "            ])\n",
    "        ], id=\"main2-container\")\n",
    "    \n",
    "    #domanda 3, end\n",
    "    elif pathname == \"/page-2\":\n",
    "        return dbc.Container([\n",
    "            \n",
    "            #title\n",
    "            html.Div([\n",
    "                html.H1('Smart Working',\n",
    "                        className='mb-3',\n",
    "                        style={'textAlign': 'center', 'marginTop': '100px', 'font-size': '2.5em', 'font-weight': 'bold'})\n",
    "            ], style={'height': '100px'}),\n",
    "            \n",
    "            # torta\n",
    "            html.Div([\n",
    "                dcc.Graph(figure=fig_pie)\n",
    "            ], style={'marginLeft': '50px'}),\n",
    "            \n",
    "            # barplot\n",
    "            html.Div([\n",
    "                html.H2('Andament of Salaries by size of Companies',\n",
    "                            style={'textAlign': 'center', 'marginTop': '20px', 'font-size': '2em'}\n",
    "                           )\n",
    "                ], style={'height': '50px'}),\n",
    "            html.Div([\n",
    "                dcc.Graph(figure=fig_remote_ratio_salary)\n",
    "            ], style={'marginLeft': '50px'}),\n",
    "            html.Hr(style={'border-top': '4px solid #ccc','color': 'black'}),\n",
    "            html.Div([\n",
    "# CONSIDERAZINI FINALI 3\n",
    "                html.H5('The situation of the works in our dataset shows more only On-Site or Full-Remote Worker than Half-Remote Worker, also we can notice that Half-Remote Worker are usually payed less. Full-Remote Working also is payed less than On-Site if the experience level is low, more if the experience level is high',\n",
    "                             style={'textAlign': 'center', 'marginTop': '150px', 'font-size': '1.5em'})\n",
    "            ])\n",
    "        ], id=\"main3-container\")\n",
    "    \n",
    "    # If the user tries to reach a different page, return a 404 message\n",
    "    return html.Div(\n",
    "        [\n",
    "            html.H1(\"404: Not found\", className=\"text-danger\"),\n",
    "            html.Hr(),\n",
    "            html.P(f\"The pathname {pathname} was not recognised...\"),\n",
    "        ],\n",
    "        className=\"p-3 bg-light rounded-3\",\n",
    "    )\n",
    "# Esegui l'app\n",
    "if __name__ == '__main__':\n",
    "    app.run_server(debug=True)"
   ]
  }
 ],
 "metadata": {
  "kernelspec": {
   "display_name": "Python 3 (ipykernel)",
   "language": "python",
   "name": "python3"
  },
  "language_info": {
   "codemirror_mode": {
    "name": "ipython",
    "version": 3
   },
   "file_extension": ".py",
   "mimetype": "text/x-python",
   "name": "python",
   "nbconvert_exporter": "python",
   "pygments_lexer": "ipython3",
   "version": "3.11.7"
  }
 },
 "nbformat": 4,
 "nbformat_minor": 2
}
